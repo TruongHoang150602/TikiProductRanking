{
 "cells": [
  {
   "cell_type": "markdown",
   "id": "d5c7b730-b5d2-40b4-ab99-3be42aa51470",
   "metadata": {},
   "source": [
    "# Product Data Preprocessing"
   ]
  },
  {
   "cell_type": "markdown",
   "id": "1a41cae7-106b-422e-b23f-d0ac175394c3",
   "metadata": {},
   "source": [
    "## Load data"
   ]
  },
  {
   "cell_type": "code",
   "execution_count": 1,
   "id": "c3a0efa2-0768-4e29-8e63-2f2c6ef89734",
   "metadata": {},
   "outputs": [],
   "source": [
    "from pyspark.sql import SparkSession\n",
    "from pyspark.sql.functions import udf\n",
    "from pyspark.sql.functions import when\n",
    "from pyspark.sql.functions import explode\n",
    "from pyspark.sql.types import StructType, StructField, StringType, IntegerType, FloatType, ArrayType\n",
    "from pyspark.sql.functions import col, length, split\n",
    "import matplotlib.pyplot as plt\n",
    "import seaborn as sns\n",
    "import re"
   ]
  },
  {
   "cell_type": "code",
   "execution_count": 2,
   "id": "5075f202-c235-4e66-bc0c-ef17364dc886",
   "metadata": {},
   "outputs": [
    {
     "name": "stderr",
     "output_type": "stream",
     "text": [
      "23/11/29 21:17:14 WARN Utils: Your hostname, TruongHoang resolves to a loopback address: 127.0.1.1; using 192.168.81.115 instead (on interface wlp3s0)\n",
      "23/11/29 21:17:14 WARN Utils: Set SPARK_LOCAL_IP if you need to bind to another address\n",
      "Setting default log level to \"WARN\".\n",
      "To adjust logging level use sc.setLogLevel(newLevel). For SparkR, use setLogLevel(newLevel).\n",
      "23/11/29 21:17:15 WARN NativeCodeLoader: Unable to load native-hadoop library for your platform... using builtin-java classes where applicable\n"
     ]
    }
   ],
   "source": [
    "spark = SparkSession.builder.appName(\"ProductDataPreprocessing\").getOrCreate()"
   ]
  },
  {
   "cell_type": "code",
   "execution_count": 3,
   "id": "e40a31ca-7271-4fa8-b7d1-9d75fa5d5f05",
   "metadata": {},
   "outputs": [
    {
     "name": "stderr",
     "output_type": "stream",
     "text": [
      "                                                                                \r"
     ]
    },
    {
     "name": "stdout",
     "output_type": "stream",
     "text": [
      "root\n",
      " |-- add_on: array (nullable = true)\n",
      " |    |-- element: struct (containsNull = true)\n",
      " |    |    |-- add_on_description: string (nullable = true)\n",
      " |    |    |-- add_on_description_list: array (nullable = true)\n",
      " |    |    |    |-- element: string (containsNull = true)\n",
      " |    |    |-- add_on_information_title: string (nullable = true)\n",
      " |    |    |-- add_on_information_url: string (nullable = true)\n",
      " |    |    |-- id: long (nullable = true)\n",
      " |    |    |-- is_default_select_addon: long (nullable = true)\n",
      " |    |    |-- is_visible: boolean (nullable = true)\n",
      " |    |    |-- list_price: long (nullable = true)\n",
      " |    |    |-- name: string (nullable = true)\n",
      " |    |    |-- price: long (nullable = true)\n",
      " |    |    |-- thumbnail_url: string (nullable = true)\n",
      " |    |    |-- url: string (nullable = true)\n",
      " |-- add_on_title: string (nullable = true)\n",
      " |-- all_time_quantity_sold: long (nullable = true)\n",
      " |-- asa_cashback_widget: struct (nullable = true)\n",
      " |    |-- amplitude: struct (nullable = true)\n",
      " |    |    |-- has_freeship_plus_benefit: boolean (nullable = true)\n",
      " |    |    |-- partner_rewards_amount: long (nullable = true)\n",
      " |    |    |-- tiki_rewards_amount: long (nullable = true)\n",
      " |    |    |-- total_rewards_amount: double (nullable = true)\n",
      " |    |-- asa_plus_badge: string (nullable = true)\n",
      " |    |-- astra_convert_rate: long (nullable = true)\n",
      " |    |-- background_color: string (nullable = true)\n",
      " |    |-- benefits: struct (nullable = true)\n",
      " |    |    |-- benefit_text: string (nullable = true)\n",
      " |    |    |-- icon_title: string (nullable = true)\n",
      " |    |    |-- information_url: string (nullable = true)\n",
      " |    |    |-- list: array (nullable = true)\n",
      " |    |    |    |-- element: struct (containsNull = true)\n",
      " |    |    |    |    |-- icon: string (nullable = true)\n",
      " |    |    |    |    |-- link: string (nullable = true)\n",
      " |    |    |    |    |-- text: string (nullable = true)\n",
      " |    |    |-- sub_icon: string (nullable = true)\n",
      " |    |    |-- sub_title: string (nullable = true)\n",
      " |    |    |-- title: string (nullable = true)\n",
      " |    |    |-- type: string (nullable = true)\n",
      " |    |-- button: struct (nullable = true)\n",
      " |    |    |-- text: string (nullable = true)\n",
      " |    |    |-- url: string (nullable = true)\n",
      " |    |-- icon: struct (nullable = true)\n",
      " |    |    |-- height: long (nullable = true)\n",
      " |    |    |-- url: string (nullable = true)\n",
      " |    |    |-- width: long (nullable = true)\n",
      " |    |-- non_login_url_path: string (nullable = true)\n",
      " |    |-- rate: long (nullable = true)\n",
      " |    |-- sep: long (nullable = true)\n",
      " |    |-- short_description: string (nullable = true)\n",
      " |    |-- text: string (nullable = true)\n",
      " |    |-- text_color: string (nullable = true)\n",
      " |-- authors: array (nullable = true)\n",
      " |    |-- element: struct (containsNull = true)\n",
      " |    |    |-- id: long (nullable = true)\n",
      " |    |    |-- name: string (nullable = true)\n",
      " |    |    |-- slug: string (nullable = true)\n",
      " |-- badges: array (nullable = true)\n",
      " |    |-- element: struct (containsNull = true)\n",
      " |    |    |-- code: string (nullable = true)\n",
      " |    |    |-- text: string (nullable = true)\n",
      " |-- badges_new: array (nullable = true)\n",
      " |    |-- element: struct (containsNull = true)\n",
      " |    |    |-- background_color: string (nullable = true)\n",
      " |    |    |-- code: string (nullable = true)\n",
      " |    |    |-- href: string (nullable = true)\n",
      " |    |    |-- icon: string (nullable = true)\n",
      " |    |    |-- icon_height: long (nullable = true)\n",
      " |    |    |-- icon_width: long (nullable = true)\n",
      " |    |    |-- placement: string (nullable = true)\n",
      " |    |    |-- text: string (nullable = true)\n",
      " |    |    |-- text_color: string (nullable = true)\n",
      " |    |    |-- type: string (nullable = true)\n",
      " |-- benefits: array (nullable = true)\n",
      " |    |-- element: struct (containsNull = true)\n",
      " |    |    |-- extra: array (nullable = true)\n",
      " |    |    |    |-- element: struct (containsNull = true)\n",
      " |    |    |    |    |-- name: string (nullable = true)\n",
      " |    |    |    |    |-- url: string (nullable = true)\n",
      " |    |    |    |    |-- value: string (nullable = true)\n",
      " |    |    |-- extra_header: string (nullable = true)\n",
      " |    |    |-- extra_text: string (nullable = true)\n",
      " |    |    |-- icon: string (nullable = true)\n",
      " |    |    |-- text: string (nullable = true)\n",
      " |-- best_price_guaranteed: boolean (nullable = true)\n",
      " |-- book_cover: string (nullable = true)\n",
      " |-- brand: struct (nullable = true)\n",
      " |    |-- id: long (nullable = true)\n",
      " |    |-- name: string (nullable = true)\n",
      " |    |-- slug: string (nullable = true)\n",
      " |-- breadcrumbs: array (nullable = true)\n",
      " |    |-- element: struct (containsNull = true)\n",
      " |    |    |-- category_id: long (nullable = true)\n",
      " |    |    |-- name: string (nullable = true)\n",
      " |    |    |-- url: string (nullable = true)\n",
      " |-- categories: struct (nullable = true)\n",
      " |    |-- id: long (nullable = true)\n",
      " |    |-- is_leaf: boolean (nullable = true)\n",
      " |    |-- name: string (nullable = true)\n",
      " |-- configurable_options: array (nullable = true)\n",
      " |    |-- element: struct (containsNull = true)\n",
      " |    |    |-- code: string (nullable = true)\n",
      " |    |    |-- name: string (nullable = true)\n",
      " |    |    |-- position: long (nullable = true)\n",
      " |    |    |-- show_preview_image: boolean (nullable = true)\n",
      " |    |    |-- values: array (nullable = true)\n",
      " |    |    |    |-- element: struct (containsNull = true)\n",
      " |    |    |    |    |-- label: string (nullable = true)\n",
      " |-- configurable_products: array (nullable = true)\n",
      " |    |-- element: struct (containsNull = true)\n",
      " |    |    |-- child_id: long (nullable = true)\n",
      " |    |    |-- chu_ky: string (nullable = true)\n",
      " |    |    |-- do_kinh: string (nullable = true)\n",
      " |    |    |-- id: long (nullable = true)\n",
      " |    |    |-- images: array (nullable = true)\n",
      " |    |    |    |-- element: struct (containsNull = true)\n",
      " |    |    |    |    |-- large_url: string (nullable = true)\n",
      " |    |    |    |    |-- medium_url: string (nullable = true)\n",
      " |    |    |    |    |-- small_url: string (nullable = true)\n",
      " |    |    |-- inventory_status: string (nullable = true)\n",
      " |    |    |-- name: string (nullable = true)\n",
      " |    |    |-- option1: string (nullable = true)\n",
      " |    |    |-- option2: string (nullable = true)\n",
      " |    |    |-- price: long (nullable = true)\n",
      " |    |    |-- selected: boolean (nullable = true)\n",
      " |    |    |-- seller: struct (nullable = true)\n",
      " |    |    |    |-- id: long (nullable = true)\n",
      " |    |    |    |-- name: string (nullable = true)\n",
      " |    |    |-- size_chart: array (nullable = true)\n",
      " |    |    |    |-- element: string (containsNull = true)\n",
      " |    |    |-- size_nhan_nam: string (nullable = true)\n",
      " |    |    |-- size_nhan_nu: string (nullable = true)\n",
      " |    |    |-- sku: string (nullable = true)\n",
      " |    |    |-- thumbnail_url: string (nullable = true)\n",
      " |-- confirm_over_age: struct (nullable = true)\n",
      " |    |-- button: struct (nullable = true)\n",
      " |    |    |-- btn_accept: string (nullable = true)\n",
      " |    |    |-- btn_cancel: string (nullable = true)\n",
      " |    |-- content: string (nullable = true)\n",
      " |    |-- title: string (nullable = true)\n",
      " |    |-- type: string (nullable = true)\n",
      " |-- current_seller: struct (nullable = true)\n",
      " |    |-- id: long (nullable = true)\n",
      " |    |-- is_best_store: boolean (nullable = true)\n",
      " |    |-- is_offline_installment_supported: string (nullable = true)\n",
      " |    |-- link: string (nullable = true)\n",
      " |    |-- logo: string (nullable = true)\n",
      " |    |-- name: string (nullable = true)\n",
      " |    |-- price: long (nullable = true)\n",
      " |    |-- product_id: string (nullable = true)\n",
      " |    |-- sku: string (nullable = true)\n",
      " |    |-- store_id: long (nullable = true)\n",
      " |-- data_version: long (nullable = true)\n",
      " |-- day_ago_created: long (nullable = true)\n",
      " |-- deal_specs: struct (nullable = true)\n",
      " |    |-- deal_id: long (nullable = true)\n",
      " |    |-- discount_rate: long (nullable = true)\n",
      " |    |-- is_hot_deal: boolean (nullable = true)\n",
      " |    |-- list_price: long (nullable = true)\n",
      " |    |-- max_sale_qty: long (nullable = true)\n",
      " |    |-- original_price: long (nullable = true)\n",
      " |    |-- price: long (nullable = true)\n",
      " |    |-- progress: long (nullable = true)\n",
      " |    |-- progress_text: string (nullable = true)\n",
      " |    |-- qty: long (nullable = true)\n",
      " |    |-- qty_ordered: long (nullable = true)\n",
      " |    |-- special_to_date: long (nullable = true)\n",
      " |    |-- v5: long (nullable = true)\n",
      " |-- description: string (nullable = true)\n",
      " |-- discount: long (nullable = true)\n",
      " |-- discount_rate: long (nullable = true)\n",
      " |-- favourite_count: long (nullable = true)\n",
      " |-- gift_item_title: string (nullable = true)\n",
      " |-- has_buynow: boolean (nullable = true)\n",
      " |-- has_ebook: boolean (nullable = true)\n",
      " |-- has_other_fee: struct (nullable = true)\n",
      " |    |-- type: string (nullable = true)\n",
      " |    |-- url: string (nullable = true)\n",
      " |    |-- value: string (nullable = true)\n",
      " |-- highlight: struct (nullable = true)\n",
      " |    |-- items: array (nullable = true)\n",
      " |    |    |-- element: string (containsNull = true)\n",
      " |    |-- title: string (nullable = true)\n",
      " |-- id: long (nullable = true)\n",
      " |-- images: array (nullable = true)\n",
      " |    |-- element: struct (containsNull = true)\n",
      " |    |    |-- base_url: string (nullable = true)\n",
      " |    |    |-- is_gallery: boolean (nullable = true)\n",
      " |    |    |-- label: string (nullable = true)\n",
      " |    |    |-- large_url: string (nullable = true)\n",
      " |    |    |-- medium_url: string (nullable = true)\n",
      " |    |    |-- position: string (nullable = true)\n",
      " |    |    |-- small_url: string (nullable = true)\n",
      " |    |    |-- thumbnail_url: string (nullable = true)\n",
      " |-- installment_info_v2: struct (nullable = true)\n",
      " |    |-- details: array (nullable = true)\n",
      " |    |    |-- element: struct (containsNull = true)\n",
      " |    |    |    |-- icon: string (nullable = true)\n",
      " |    |    |    |-- summary: string (nullable = true)\n",
      " |    |    |    |-- title: string (nullable = true)\n",
      " |    |    |    |-- url: string (nullable = true)\n",
      " |    |-- redirect_url: string (nullable = true)\n",
      " |    |-- summary: string (nullable = true)\n",
      " |    |-- title: string (nullable = true)\n",
      " |-- inventory: struct (nullable = true)\n",
      " |    |-- fulfillment_type: string (nullable = true)\n",
      " |    |-- product_virtual_type: string (nullable = true)\n",
      " |-- inventory_status: string (nullable = true)\n",
      " |-- inventory_type: string (nullable = true)\n",
      " |-- is_acoholic_drink: boolean (nullable = true)\n",
      " |-- is_baby_milk: boolean (nullable = true)\n",
      " |-- is_flower: boolean (nullable = true)\n",
      " |-- is_fresh: boolean (nullable = true)\n",
      " |-- is_gift_card: boolean (nullable = true)\n",
      " |-- is_inventory_clearance_sale: boolean (nullable = true)\n",
      " |-- is_seller_in_chat_whitelist: boolean (nullable = true)\n",
      " |-- is_tier_pricing_available: boolean (nullable = true)\n",
      " |-- is_tier_pricing_eligible: boolean (nullable = true)\n",
      " |-- list_price: long (nullable = true)\n",
      " |-- master_id: long (nullable = true)\n",
      " |-- meta_description: string (nullable = true)\n",
      " |-- meta_keywords: string (nullable = true)\n",
      " |-- meta_title: string (nullable = true)\n",
      " |-- name: string (nullable = true)\n",
      " |-- original_price: long (nullable = true)\n",
      " |-- other_sellers: array (nullable = true)\n",
      " |    |-- element: struct (containsNull = true)\n",
      " |    |    |-- id: long (nullable = true)\n",
      " |    |    |-- link: string (nullable = true)\n",
      " |    |    |-- logo: string (nullable = true)\n",
      " |    |    |-- name: string (nullable = true)\n",
      " |    |    |-- price: long (nullable = true)\n",
      " |    |    |-- product_id: string (nullable = true)\n",
      " |    |    |-- store_id: long (nullable = true)\n",
      " |-- price: long (nullable = true)\n",
      " |-- price_comparison: struct (nullable = true)\n",
      " |    |-- sub_title: string (nullable = true)\n",
      " |    |-- title: string (nullable = true)\n",
      " |-- product_links: array (nullable = true)\n",
      " |    |-- element: struct (containsNull = true)\n",
      " |    |    |-- id: long (nullable = true)\n",
      " |    |    |-- inventory_status: string (nullable = true)\n",
      " |    |    |-- is_free_gift: boolean (nullable = true)\n",
      " |    |    |-- is_installation_package: boolean (nullable = true)\n",
      " |    |    |-- list_price: long (nullable = true)\n",
      " |    |    |-- name: string (nullable = true)\n",
      " |    |    |-- price: long (nullable = true)\n",
      " |    |    |-- thumbnail_url: string (nullable = true)\n",
      " |    |    |-- type: string (nullable = true)\n",
      " |    |    |-- url: string (nullable = true)\n",
      " |-- productset_group_name: string (nullable = true)\n",
      " |-- promitions: array (nullable = true)\n",
      " |    |-- element: string (containsNull = true)\n",
      " |-- quantity_sold: struct (nullable = true)\n",
      " |    |-- text: string (nullable = true)\n",
      " |    |-- value: long (nullable = true)\n",
      " |-- rating_average: double (nullable = true)\n",
      " |-- return_and_exchange_policy: string (nullable = true)\n",
      " |-- review_count: long (nullable = true)\n",
      " |-- review_text: string (nullable = true)\n",
      " |-- salable_type: string (nullable = true)\n",
      " |-- seller: string (nullable = true)\n",
      " |-- services_and_promotions: array (nullable = true)\n",
      " |    |-- element: string (containsNull = true)\n",
      " |-- short_description: string (nullable = true)\n",
      " |-- short_url: string (nullable = true)\n",
      " |-- sku: string (nullable = true)\n",
      " |-- specifications: array (nullable = true)\n",
      " |    |-- element: struct (containsNull = true)\n",
      " |    |    |-- attributes: array (nullable = true)\n",
      " |    |    |    |-- element: struct (containsNull = true)\n",
      " |    |    |    |    |-- code: string (nullable = true)\n",
      " |    |    |    |    |-- name: string (nullable = true)\n",
      " |    |    |    |    |-- value: string (nullable = true)\n",
      " |    |    |-- name: string (nullable = true)\n",
      " |-- stock_item: struct (nullable = true)\n",
      " |    |-- max_sale_qty: long (nullable = true)\n",
      " |    |-- min_sale_qty: long (nullable = true)\n",
      " |    |-- preorder_date: long (nullable = true)\n",
      " |    |-- qty: long (nullable = true)\n",
      " |-- thumbnail_url: string (nullable = true)\n",
      " |-- type: string (nullable = true)\n",
      " |-- url_key: string (nullable = true)\n",
      " |-- url_path: string (nullable = true)\n",
      " |-- video_url: string (nullable = true)\n",
      " |-- warranty_info: array (nullable = true)\n",
      " |    |-- element: struct (containsNull = true)\n",
      " |    |    |-- name: string (nullable = true)\n",
      " |    |    |-- url: string (nullable = true)\n",
      " |    |    |-- value: string (nullable = true)\n",
      " |-- warranty_policy: string (nullable = true)\n",
      "\n"
     ]
    }
   ],
   "source": [
    "df = spark.read.option(\"multiline\",\"true\").json('product_tiki.json')\n",
    "df.printSchema()"
   ]
  },
  {
   "cell_type": "code",
   "execution_count": 4,
   "id": "b3f43125-299e-4efc-b14b-e3f51bb17323",
   "metadata": {},
   "outputs": [],
   "source": [
    "selected_key = [\"id\",\"name\",\"discount_rate\",\"day_ago_created\", \"all_time_quantity_sold\", col(\"categories.name\").alias(\"category\"), \"rating_average\", \"review_count\"]\n",
    "df = df.select(selected_key)"
   ]
  },
  {
   "cell_type": "code",
   "execution_count": 5,
   "id": "102dc65e-f4e6-4b47-9d65-124ccceec82a",
   "metadata": {},
   "outputs": [
    {
     "name": "stdout",
     "output_type": "stream",
     "text": [
      "root\n",
      " |-- id: long (nullable = true)\n",
      " |-- name: string (nullable = true)\n",
      " |-- discount_rate: long (nullable = true)\n",
      " |-- day_ago_created: long (nullable = true)\n",
      " |-- all_time_quantity_sold: long (nullable = true)\n",
      " |-- category: string (nullable = true)\n",
      " |-- rating_average: double (nullable = true)\n",
      " |-- review_count: long (nullable = true)\n",
      "\n"
     ]
    }
   ],
   "source": [
    "df.printSchema()"
   ]
  },
  {
   "cell_type": "code",
   "execution_count": 6,
   "id": "a64f8ca1-a876-4edd-98fd-d11d6ae089e7",
   "metadata": {},
   "outputs": [
    {
     "name": "stderr",
     "output_type": "stream",
     "text": [
      "                                                                                \r"
     ]
    },
    {
     "name": "stdout",
     "output_type": "stream",
     "text": [
      "+---------+--------------------+-------------+---------------+----------------------+--------------------+--------------+------------+\n",
      "|       id|                name|discount_rate|day_ago_created|all_time_quantity_sold|            category|rating_average|review_count|\n",
      "+---------+--------------------+-------------+---------------+----------------------+--------------------+--------------+------------+\n",
      "|235523070|LEGO SPIDEY 10789...|            0|            240|                     4|  Lắp ghép, Xếp hình|           5.0|           1|\n",
      "|204421380|Set 3 quần lót bé...|            0|            354|                    14|      Đồ lót bé trai|           0.0|           0|\n",
      "|202339434|Dụng Cụ Lấy Rá...|            5|            368|                    49|     Bông tắm cho bé|           4.7|           9|\n",
      "|  6632811|Cháo Tươi Thịt He...|           15|           1825|                  1989|   Đồ Chơi - Mẹ & Bé|           4.7|          50|\n",
      "| 10710937|Sữa bột Optimum G...|            0|           1707|                   291|   Đồ Chơi - Mẹ & Bé|           5.0|          35|\n",
      "|270231113|Combo 3 Gói Khăn ...|           21|            103|                    22|Khăn giấy ướt cho bé|           4.0|           1|\n",
      "|263986824|Dung dịch súc rửa...|           20|            117|                   153|                Root|           4.1|          15|\n",
      "| 57804868|Viên sắt cho bà b...|           24|           1202|                   397|   Đồ Chơi - Mẹ & Bé|           4.7|          67|\n",
      "|196551086|Gối Trẻ Em Tiện L...|            0|            414|                     4|                 Gối|           0.0|           0|\n",
      "|230123832|Áo lót lá bé gái ...|            0|            242|                    51|                Root|           0.0|           0|\n",
      "| 56957583|Bio Island DHA ch...|           24|           1217|                   800|   Đồ Chơi - Mẹ & Bé|           4.8|         170|\n",
      "|260856541|Quần Đùi Bầu Mặc ...|            0|            155|                    10|      Đồ bầu mặc nhà|           4.0|           2|\n",
      "|160299784|Nước Lau Sàn Sunl...|           14|            642|                  1081|                Root|           5.0|         122|\n",
      "| 95035819|Bột ăn dặm dinh d...|            0|            903|                   984|          Bột ăn dặm|           4.8|         173|\n",
      "|121231921|Mũ tắm mũ gội đầu...|            0|            781|                    10|Mũ chắn nước gội ...|           0.0|           0|\n",
      "| 70659990|Máy Xịt Phòng Tự ...|            3|           1105|                   493|   Đồ Chơi - Mẹ & Bé|           4.7|         112|\n",
      "|225907402|Viên rửa chén bát...|            0|            245|                    13|       Nước rửa chén|           5.0|          12|\n",
      "|102760908|Sữa bột Nutricare...|            0|            836|                   109|Dinh dưỡng cho ng...|           4.8|          14|\n",
      "|267176367|Bột ăn dặm dinh d...|            7|            114|                   297|                Root|           4.8|          49|\n",
      "|126243917|Chậu Xông Vùng Kí...|            0|            756|                     7|Dụng cụ hỗ trợ mẹ...|           0.0|           0|\n",
      "+---------+--------------------+-------------+---------------+----------------------+--------------------+--------------+------------+\n",
      "only showing top 20 rows\n",
      "\n"
     ]
    }
   ],
   "source": [
    "df.show()"
   ]
  },
  {
   "cell_type": "code",
   "execution_count": 7,
   "id": "b827ef2a-f574-49e5-8f92-2735164895f5",
   "metadata": {},
   "outputs": [
    {
     "name": "stderr",
     "output_type": "stream",
     "text": [
      "                                                                                \r"
     ]
    },
    {
     "data": {
      "text/plain": [
       "48813"
      ]
     },
     "execution_count": 7,
     "metadata": {},
     "output_type": "execute_result"
    }
   ],
   "source": [
    "df.count()"
   ]
  },
  {
   "cell_type": "code",
   "execution_count": 8,
   "id": "c569beb2-1551-47ff-b794-a19a9e6b38be",
   "metadata": {},
   "outputs": [],
   "source": [
    "df = df.na.drop()"
   ]
  },
  {
   "cell_type": "code",
   "execution_count": 9,
   "id": "1a58b463-db12-4902-bd9c-9101d9b45cc0",
   "metadata": {},
   "outputs": [
    {
     "name": "stderr",
     "output_type": "stream",
     "text": [
      "                                                                                \r"
     ]
    },
    {
     "data": {
      "text/plain": [
       "42459"
      ]
     },
     "execution_count": 9,
     "metadata": {},
     "output_type": "execute_result"
    }
   ],
   "source": [
    "df.count()"
   ]
  },
  {
   "cell_type": "code",
   "execution_count": 10,
   "id": "4d27c4b7-8415-4f9d-b68c-f427d6649c47",
   "metadata": {},
   "outputs": [
    {
     "name": "stderr",
     "output_type": "stream",
     "text": [
      "[Stage 8:>                                                          (0 + 1) / 1]\r"
     ]
    },
    {
     "name": "stdout",
     "output_type": "stream",
     "text": [
      "+---------+--------------------+-------------+---------------+----------------------+--------------------+--------------+------------+\n",
      "|       id|                name|discount_rate|day_ago_created|all_time_quantity_sold|            category|rating_average|review_count|\n",
      "+---------+--------------------+-------------+---------------+----------------------+--------------------+--------------+------------+\n",
      "|  1559411|Phiếu Quà Tặng Ti...|            0|           2065|               1296821|   Voucher - Dịch vụ|           4.7|         426|\n",
      "|  1559415|Phiếu Quà Tặng Ti...|            0|           2065|               1254838|   Voucher - Dịch vụ|           4.6|         373|\n",
      "|  1559581|Phiếu Quà Tặng Ti...|            0|           2065|                889446|   Voucher - Dịch vụ|           4.5|         172|\n",
      "| 75435457|Tã Quần Caryn Loạ...|           17|           1023|                786642|Tã bỉm dành cho n...|           4.8|         326|\n",
      "|  7321979|Phiếu Quà Tặng Ti...|            0|           1807|                342351|   Voucher - Dịch vụ|           4.6|         133|\n",
      "|  1559585|Phiếu Quà Tặng Ti...|            0|           2065|                247025|   Voucher - Dịch vụ|           4.5|          81|\n",
      "|  1559601|Phiếu Quà Tặng Ti...|            0|           2065|                202167|   Voucher - Dịch vụ|           4.8|           9|\n",
      "|  2648565|Phiếu Quà Tặng Ti...|            0|           1955|                199880|   Voucher - Dịch vụ|           4.3|          15|\n",
      "|   632680|Dầu Gội Chống Gàu...|           17|           2365|                198261|             Dầu Gội|           4.8|        1538|\n",
      "|  7322047|Phiếu Quà Tặng Ti...|            0|           1807|                197837|   Voucher - Dịch vụ|           4.7|          10|\n",
      "|133696713|Dầu Đậu Nành Simp...|           11|            733|                128099|   Các loại dầu khác|           5.0|        1533|\n",
      "| 10240037|Thùng 48 Hộp Sữa ...|           20|           1736|                 99935|Sữa tiệt trùng (UHT)|           4.8|        1637|\n",
      "| 76404389|Tã/ Bỉm Quần PAMP...|           24|           1006|                 87080|   Đồ Chơi - Mẹ & Bé|           4.8|        3121|\n",
      "|   435979|Tập Học Sinh Tiki...|           35|              0|                 79589|CHƯƠNG TRÌNH KHUY...|           4.6|         730|\n",
      "|  1634981|Giấy Thấm Dầu Acn...|           21|           2051|                 77955|  Làm Đẹp - Sức Khỏe|           4.7|         246|\n",
      "| 26114399|Nóng Giận Là Bản ...|           28|           1535|                 72352|     Sách tiếng Việt|           4.8|        7110|\n",
      "|   750578|Khi Hơi Thở Hóa T...|           36|           2282|                 60979|     Sách tiếng Việt|           4.7|        2202|\n",
      "|  1559589|Phiếu Quà Tặng Ti...|            0|           2065|                 56578|   Voucher - Dịch vụ|           4.5|          53|\n",
      "|  5902685|Kem rửa mặt Vitam...|           21|           1839|                 53260|         Sữa rửa mặt|           4.8|         281|\n",
      "| 10005245|Đàn Ông Sao Hỏa Đ...|           32|           1743|                 51235|     Sách tiếng Việt|           4.8|        4103|\n",
      "+---------+--------------------+-------------+---------------+----------------------+--------------------+--------------+------------+\n",
      "only showing top 20 rows\n",
      "\n"
     ]
    },
    {
     "name": "stderr",
     "output_type": "stream",
     "text": [
      "                                                                                \r"
     ]
    }
   ],
   "source": [
    "df.orderBy(col(\"all_time_quantity_sold\").desc()).show()"
   ]
  },
  {
   "cell_type": "code",
   "execution_count": 11,
   "id": "4e92f4a0-3ef0-4582-a974-c9e53c912641",
   "metadata": {},
   "outputs": [
    {
     "name": "stderr",
     "output_type": "stream",
     "text": [
      "                                                                                \r"
     ]
    }
   ],
   "source": [
    "import pandas as pd\n",
    "df_discount_to_pd = df.select(\"discount_rate\").toPandas()\n",
    "df_daycreated_to_pd = df.select(\"day_ago_created\").toPandas()\n",
    "df_sold_to_pd = df.select(\"all_time_quantity_sold\").toPandas()"
   ]
  },
  {
   "cell_type": "code",
   "execution_count": 12,
   "id": "bb9270a8-b6e6-45a0-af5a-6ece92025d89",
   "metadata": {},
   "outputs": [
    {
     "data": {
      "image/png": "[encoded data removed]",
      "text/plain": [
       "<Figure size 1000x600 with 1 Axes>"
      ]
     },
     "metadata": {},
     "output_type": "display_data"
    }
   ],
   "source": [
    "plt.figure(figsize=(10, 6))\n",
    "plt.hist(df_discount_to_pd['discount_rate'], bins=50, range=(1, 100), color='blue')\n",
    "plt.xlabel('Percent')\n",
    "plt.ylabel('Frequency')\n",
    "plt.title('Discount Rate')\n",
    "plt.show()"
   ]
  },
  {
   "cell_type": "code",
   "execution_count": 13,
   "id": "c418229d-66b0-4d0f-b115-62c6cb31b142",
   "metadata": {},
   "outputs": [
    {
     "data": {
      "image/png": "[encoded data removed]",
      "text/plain": [
       "<Figure size 1000x600 with 1 Axes>"
      ]
     },
     "metadata": {},
     "output_type": "display_data"
    }
   ],
   "source": [
    "plt.figure(figsize=(10, 6))\n",
    "plt.hist(df_daycreated_to_pd['day_ago_created'], bins=50, range=(0, 3000), color='blue')\n",
    "plt.xlabel('Number day ago created')\n",
    "plt.ylabel('Frequency')\n",
    "plt.title('Number day ago created')\n",
    "plt.show()"
   ]
  },
  {
   "cell_type": "code",
   "execution_count": 14,
   "id": "2611511c-4666-4166-8016-9afee2a93726",
   "metadata": {},
   "outputs": [
    {
     "data": {
      "image/png": "[encoded data removed]",
      "text/plain": [
       "<Figure size 1000x600 with 1 Axes>"
      ]
     },
     "metadata": {},
     "output_type": "display_data"
    }
   ],
   "source": [
    "plt.figure(figsize=(10, 6))\n",
    "plt.hist(df_sold_to_pd['all_time_quantity_sold'], bins=50,range=(0, 100), color='blue')\n",
    "plt.xlabel('Quanlity sold')\n",
    "plt.ylabel('Frequency')\n",
    "plt.title('Quanlity sold')\n",
    "plt.show()"
   ]
  },
  {
   "cell_type": "code",
   "execution_count": 15,
   "id": "934379bb-71ad-4c65-8066-32abf6d9154e",
   "metadata": {},
   "outputs": [],
   "source": [
    "output_path = \"/home/truonghoang/Documents/GR2/Model/product_data_clean.csv\"\n",
    "df.write.csv(output_path, header=True, mode=\"overwrite\")"
   ]
  }
 ],
 "metadata": {
  "kernelspec": {
   "display_name": "Python 3 (ipykernel)",
   "language": "python",
   "name": "python3"
  },
  "language_info": {
   "codemirror_mode": {
    "name": "ipython",
    "version": 3
   },
   "file_extension": ".py",
   "mimetype": "text/x-python",
   "name": "python",
   "nbconvert_exporter": "python",
   "pygments_lexer": "ipython3",
   "version": "3.10.12"
  }
 },
 "nbformat": 4,
 "nbformat_minor": 5
}
