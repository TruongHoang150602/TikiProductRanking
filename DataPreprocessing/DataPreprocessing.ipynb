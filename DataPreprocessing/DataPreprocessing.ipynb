{
 "cells": [
  {
   "cell_type": "markdown",
   "id": "c9611d48-259c-4921-b6c4-94a8da4e9d28",
   "metadata": {},
   "source": [
    "# Review Data Preprocessing"
   ]
  },
  {
   "cell_type": "markdown",
   "id": "f9ddb3a3-070e-47b9-8b50-772d470f53d7",
   "metadata": {},
   "source": [
    "## Load data"
   ]
  },
  {
   "cell_type": "code",
   "execution_count": 1,
   "id": "77a0727f-a9b8-47bd-9cd6-a3eb021417e0",
   "metadata": {},
   "outputs": [],
   "source": [
    "from pyspark.sql import SparkSession\n",
    "from pyspark.sql.functions import udf\n",
    "from pyspark.sql.functions import when\n",
    "from pyspark.sql.functions import explode\n",
    "from pyspark.sql.types import StructType, StructField, StringType, IntegerType, FloatType, ArrayType\n",
    "from pyspark.sql.functions import col, length, split\n",
    "import matplotlib.pyplot as plt\n",
    "import seaborn as sns\n",
    "import re"
   ]
  },
  {
   "cell_type": "code",
   "execution_count": 2,
   "id": "8625cf8e-f21e-4d0a-b1c2-8ba210858c32",
   "metadata": {},
   "outputs": [
    {
     "name": "stderr",
     "output_type": "stream",
     "text": [
      "23/11/28 23:23:10 WARN Utils: Your hostname, TruongHoang resolves to a loopback address: 127.0.1.1; using 192.168.81.115 instead (on interface wlp3s0)\n",
      "23/11/28 23:23:10 WARN Utils: Set SPARK_LOCAL_IP if you need to bind to another address\n",
      "Setting default log level to \"WARN\".\n",
      "To adjust logging level use sc.setLogLevel(newLevel). For SparkR, use setLogLevel(newLevel).\n",
      "23/11/28 23:23:11 WARN NativeCodeLoader: Unable to load native-hadoop library for your platform... using builtin-java classes where applicable\n",
      "23/11/28 23:23:11 WARN Utils: Service 'SparkUI' could not bind on port 4040. Attempting port 4041.\n"
     ]
    }
   ],
   "source": [
    "spark = SparkSession.builder.appName(\"DataPreprocessing\").getOrCreate()"
   ]
  },
  {
   "cell_type": "code",
   "execution_count": 3,
   "id": "21397eb8-bd17-4b0f-b33c-7980febaa4b4",
   "metadata": {},
   "outputs": [],
   "source": [
    "schema = StructType([\n",
    "    StructField(\"data\", ArrayType(StructType([\n",
    "        StructField(\"title\", StringType(), True),\n",
    "        StructField(\"content\", StringType(), True),\n",
    "        StructField(\"thank_count\", IntegerType(), True),\n",
    "        StructField(\"score\", FloatType(), True),\n",
    "        StructField(\"new_score\", FloatType(), True),\n",
    "        StructField(\"customer_id\", IntegerType(), True),\n",
    "        StructField(\"product_id\", IntegerType(), True),\n",
    "        StructField(\"comment_count\", IntegerType(), True),\n",
    "        StructField(\"rating\", IntegerType(), True),\n",
    "    ])), True)\n",
    "])"
   ]
  },
  {
   "cell_type": "code",
   "execution_count": 4,
   "id": "016178ce-b4d4-402b-83ff-4859f5a85420",
   "metadata": {},
   "outputs": [
    {
     "name": "stdout",
     "output_type": "stream",
     "text": [
      "root\n",
      " |-- data: array (nullable = true)\n",
      " |    |-- element: struct (containsNull = true)\n",
      " |    |    |-- title: string (nullable = true)\n",
      " |    |    |-- content: string (nullable = true)\n",
      " |    |    |-- thank_count: integer (nullable = true)\n",
      " |    |    |-- score: float (nullable = true)\n",
      " |    |    |-- new_score: float (nullable = true)\n",
      " |    |    |-- customer_id: integer (nullable = true)\n",
      " |    |    |-- product_id: integer (nullable = true)\n",
      " |    |    |-- comment_count: integer (nullable = true)\n",
      " |    |    |-- rating: integer (nullable = true)\n",
      "\n"
     ]
    }
   ],
   "source": [
    "df = spark.read.option(\"multiline\",\"true\").json('review.json', schema = schema)\n",
    "df.printSchema()"
   ]
  },
  {
   "cell_type": "code",
   "execution_count": 5,
   "id": "cda2e0c5-853a-4992-bad0-5e1f24554815",
   "metadata": {},
   "outputs": [
    {
     "name": "stderr",
     "output_type": "stream",
     "text": [
      "                                                                                \r"
     ]
    },
    {
     "name": "stdout",
     "output_type": "stream",
     "text": [
      "+--------------------+\n",
      "|                data|\n",
      "+--------------------+\n",
      "|[{Rất không hài l...|\n",
      "|[{Cực kì hài lòng...|\n",
      "|[{Cực kì hài lòng...|\n",
      "|[{Cực kì hài lòng...|\n",
      "|[{rất hài lòng về...|\n",
      "|[{Cực kì hài lòng...|\n",
      "|[{Rất không hài l...|\n",
      "|[{Cực kì hài lòng...|\n",
      "|[{Cực kì hài lòng...|\n",
      "|                  []|\n",
      "|[{Hài lòng, Ok, 0...|\n",
      "|[{Cực kì hài lòng...|\n",
      "|[{Cực kì hài lòng...|\n",
      "|[{Cực kì hài lòng...|\n",
      "|[{Rất không hài l...|\n",
      "|[{Cực kì hài lòng...|\n",
      "|[{Rất không hài l...|\n",
      "|[{Cực kì hài lòng...|\n",
      "|[{Hài lòng, Không...|\n",
      "|[{Cực kì hài lòng...|\n",
      "+--------------------+\n",
      "only showing top 20 rows\n",
      "\n"
     ]
    }
   ],
   "source": [
    "df.show()"
   ]
  },
  {
   "cell_type": "code",
   "execution_count": 6,
   "id": "b9e214f6-b8e7-4b23-b4aa-ed151e6838fb",
   "metadata": {},
   "outputs": [],
   "source": [
    "df = df.select(\"*\", explode(\"data\").alias(\"review\"))\n",
    "df = df.select(\"review.content\", \"review.rating\", \"review.product_id\")"
   ]
  },
  {
   "cell_type": "code",
   "execution_count": 7,
   "id": "60dc9b56-da50-4925-ba83-f88ce53adc7a",
   "metadata": {},
   "outputs": [
    {
     "name": "stdout",
     "output_type": "stream",
     "text": [
      "root\n",
      " |-- content: string (nullable = true)\n",
      " |-- rating: integer (nullable = true)\n",
      " |-- product_id: integer (nullable = true)\n",
      "\n"
     ]
    },
    {
     "name": "stderr",
     "output_type": "stream",
     "text": [
      "                                                                                \r"
     ]
    },
    {
     "data": {
      "text/plain": [
       "215266"
      ]
     },
     "execution_count": 7,
     "metadata": {},
     "output_type": "execute_result"
    }
   ],
   "source": [
    "df.printSchema()\n",
    "df.count()"
   ]
  },
  {
   "cell_type": "code",
   "execution_count": 8,
   "id": "c86bb1aa-ebe3-4dc6-9b83-2bd5bdeddbe5",
   "metadata": {},
   "outputs": [
    {
     "name": "stderr",
     "output_type": "stream",
     "text": [
      "[Stage 4:>                                                          (0 + 1) / 1]\r"
     ]
    },
    {
     "name": "stdout",
     "output_type": "stream",
     "text": [
      "78150\n"
     ]
    },
    {
     "name": "stderr",
     "output_type": "stream",
     "text": [
      "                                                                                \r"
     ]
    }
   ],
   "source": [
    "count_null_empty = df.where((col(\"content\").isNull()) | (col(\"content\") == \"\") | (col(\"rating\").isNull())).count()\n",
    "print(count_null_empty)"
   ]
  },
  {
   "cell_type": "code",
   "execution_count": 9,
   "id": "2fabf6e7-4587-495d-8ee8-d6868087af45",
   "metadata": {},
   "outputs": [],
   "source": [
    "df = df.where(~((col(\"content\").isNull()) | (col(\"content\") == \"\") | (col(\"rating\").isNull())))"
   ]
  },
  {
   "cell_type": "code",
   "execution_count": 10,
   "id": "2fc96b22-c871-4c6e-8a88-842954bdb237",
   "metadata": {},
   "outputs": [
    {
     "name": "stderr",
     "output_type": "stream",
     "text": [
      "                                                                                \r"
     ]
    },
    {
     "data": {
      "text/plain": [
       "137116"
      ]
     },
     "execution_count": 10,
     "metadata": {},
     "output_type": "execute_result"
    }
   ],
   "source": [
    "df.count()"
   ]
  },
  {
   "cell_type": "code",
   "execution_count": 11,
   "id": "8f44b675-9688-47c7-a25f-f472299ab597",
   "metadata": {},
   "outputs": [
    {
     "name": "stderr",
     "output_type": "stream",
     "text": [
      "                                                                                \r"
     ]
    },
    {
     "data": {
      "text/plain": [
       "121501"
      ]
     },
     "execution_count": 11,
     "metadata": {},
     "output_type": "execute_result"
    }
   ],
   "source": [
    "df = df.dropDuplicates([\"content\"])\n",
    "df.count()"
   ]
  },
  {
   "cell_type": "code",
   "execution_count": 12,
   "id": "928f513b-47aa-4780-890b-f439198900f3",
   "metadata": {},
   "outputs": [],
   "source": [
    "# output_path = \"/home/truonghoang/Documents/GR2/Model/data_clean.csv\"\n",
    "# df_selected.write.csv(output_path, header=True, mode=\"overwrite\")"
   ]
  },
  {
   "cell_type": "markdown",
   "id": "dabb7629-21fb-44ba-8a5b-a82ee2fdcd74",
   "metadata": {},
   "source": [
    "# Tiền xử lí"
   ]
  },
  {
   "cell_type": "code",
   "execution_count": 13,
   "id": "f471d42e-c567-4680-a569-4c46ade33d47",
   "metadata": {},
   "outputs": [],
   "source": [
    "from underthesea import word_tokenize, pos_tag, sent_tokenize\n",
    "import regex\n",
    "import demoji\n",
    "from pyvi import ViPosTagger, ViTokenizer\n",
    "import string\n",
    "import wordcloud"
   ]
  },
  {
   "cell_type": "markdown",
   "id": "8d16df9f-fcfb-4b2f-b995-ffff53df9718",
   "metadata": {},
   "source": [
    "### Đọc các file trong từ điển"
   ]
  },
  {
   "cell_type": "markdown",
   "id": "dd7e03d4-023a-414b-8be6-c1c160b7f976",
   "metadata": {},
   "source": [
    "Đọc file để chuẩn hóa dữ liệu:\n",
    "- Emoji: 👍😍😊\n",
    "- Teencode\n",
    "- Tiếng anh\n",
    "- Từ dừng (từ nối): alô, ơi, à, ...\n",
    "- Các từ phủ định: không, nhưng, ...\n",
    "- Các từ sai"
   ]
  },
  {
   "cell_type": "code",
   "execution_count": 14,
   "id": "890c0daf-2167-4483-987e-4e051003a550",
   "metadata": {},
   "outputs": [],
   "source": [
    "##LOAD EMOJICON\n",
    "file = open('dictionary/emojicon.txt', 'r', encoding=\"utf8\")\n",
    "emoji_lst = file.read().split('\\n')\n",
    "emoji_dict = {}\n",
    "for line in emoji_lst:\n",
    "    key, value = line.split('\\t')\n",
    "    emoji_dict[key] = str(value)\n",
    "file.close()\n",
    "#################\n",
    "#LOAD TEENCODE\n",
    "file = open('dictionary/teencode.txt', 'r', encoding=\"utf8\")\n",
    "teen_lst = file.read().split('\\n')\n",
    "teen_dict = {}\n",
    "for line in teen_lst:\n",
    "    key, value = line.split('\\t')\n",
    "    teen_dict[key] = str(value)\n",
    "file.close()\n",
    "###############\n",
    "#LOAD TRANSLATE ENGLISH -> VNMESE\n",
    "file = open('dictionary/english-vnmese.txt', 'r', encoding=\"utf8\")\n",
    "english_lst = file.read().split('\\n')\n",
    "english_dict = {}\n",
    "for line in english_lst:\n",
    "    key, value = line.split('\\t')\n",
    "    english_dict[key] = str(value)\n",
    "file.close()\n",
    "################\n",
    "#LOAD wrong words\n",
    "file = open('dictionary/wrong-word.txt', 'r', encoding=\"utf8\")\n",
    "wrong_lst = file.read().split('\\n')\n",
    "file.close()\n",
    "#################\n",
    "#LOAD STOPWORDS\n",
    "file = open('dictionary/vietnamese-stopwords.txt', 'r', encoding=\"utf8\")\n",
    "stopwords_lst = file.read().split('\\n')\n",
    "file.close()\n",
    "#LOAD NOTWORDS\n",
    "file = open('dictionary/not.txt', 'r', encoding=\"utf8\")\n",
    "not_lst = file.read().split('\\n')\n",
    "file.close()"
   ]
  },
  {
   "cell_type": "markdown",
   "id": "fd35f2cd-8fda-4d71-9518-3d5630ab5675",
   "metadata": {},
   "source": [
    "### Xứ lí comment"
   ]
  },
  {
   "cell_type": "code",
   "execution_count": 15,
   "id": "162ec23a-b4f3-49c5-9e09-ba99b24bf34e",
   "metadata": {},
   "outputs": [],
   "source": [
    "@udf(StringType())\n",
    "def process_text(text):\n",
    "    # Chuyển đổi về chữ thường và xóa dấu nháy đơn không phù hợp\n",
    "    document = text.lower().replace(\"’\", '')\n",
    "\n",
    "    # Thay thế dấu chấm đoạn thành một dấu chấm\n",
    "    document = re.sub(r'\\.(\\.+)', '.', document)\n",
    "\n",
    "    new_sentence = ''\n",
    "\n",
    "    # Vòng lặp qua từng câu\n",
    "    for sentence in sent_tokenize(document):\n",
    "        # Chuyển đổi emoji\n",
    "        sentence = ''.join(' ' + emoji_dict[word] + ' ' if word in emoji_dict else word for word in list(sentence))\n",
    "\n",
    "        # Loại bỏ dấu câu, số và chỉ giữ lại từ\n",
    "        pattern = r'(?i)\\b[a-záàảãạăắằẳẵặâấầẩẫậéèẻẽẹêếềểễệóòỏõọôốồổỗộơớờởỡợíìỉĩịúùủũụưứừửữựýỳỷỹỵđ]+\\b'\n",
    "        sentence = ' '.join(regex.findall(pattern, sentence))\n",
    "\n",
    "        # Chuyển đổi teen code\n",
    "        sentence = ' '.join(teen_dict[word] if word in teen_dict else word for word in sentence.split())\n",
    "\n",
    "        # Loại bỏ các từ không mong muốn\n",
    "        sentence = ' '.join('' if word in wrong_lst else word for word in sentence.split())\n",
    "        \n",
    "        # Ghi vào new_sentence\n",
    "        new_sentence = new_sentence + sentence + '. '\n",
    "\n",
    "    # Xóa khoảng trắng dư thừa và loại bỏ các lặp lại của ký tự\n",
    "    document = re.sub(r'\\s+', ' ', new_sentence).strip()\n",
    "    document = re.sub(r'([a-z])\\1+', lambda m: m.group(1).lower(), document, flags=re.IGNORECASE)\n",
    "\n",
    "    return document"
   ]
  },
  {
   "cell_type": "markdown",
   "id": "c5279f8e-97ed-4962-b019-e9d2ffce0354",
   "metadata": {},
   "source": [
    "## Chuẩn hóa unicode tiếng việt"
   ]
  },
  {
   "cell_type": "code",
   "execution_count": 16,
   "id": "3216e288-bec4-4161-8133-b950e537dafa",
   "metadata": {},
   "outputs": [],
   "source": [
    "def loaddicchar():\n",
    "    uniChars = \"àáảãạâầấẩẫậăằắẳẵặèéẻẽẹêềếểễệđìíỉĩịòóỏõọôồốổỗộơờớởỡợùúủũụưừứửữựỳýỷỹỵÀÁẢÃẠÂẦẤẨẪẬĂẰẮẲẴẶÈÉẺẼẸÊỀẾỂỄỆĐÌÍỈĨỊÒÓỎÕỌÔỒỐỔỖỘƠỜỚỞỠỢÙÚỦŨỤƯỪỨỬỮỰỲÝỶỸỴÂĂĐÔƠƯ\"\n",
    "    unsignChars = \"aaaaaaaaaaaaaaaaaeeeeeeeeeeediiiiiooooooooooooooooouuuuuuuuuuuyyyyyAAAAAAAAAAAAAAAAAEEEEEEEEEEEDIIIOOOOOOOOOOOOOOOOOOOUUUUUUUUUUUYYYYYAADOOU\"\n",
    "\n",
    "    dic = {}\n",
    "    char1252 = 'à|á|ả|ã|ạ|ầ|ấ|ẩ|ẫ|ậ|ằ|ắ|ẳ|ẵ|ặ|è|é|ẻ|ẽ|ẹ|ề|ế|ể|ễ|ệ|ì|í|ỉ|ĩ|ị|ò|ó|ỏ|õ|ọ|ồ|ố|ổ|ỗ|ộ|ờ|ớ|ở|ỡ|ợ|ù|ú|ủ|ũ|ụ|ừ|ứ|ử|ữ|ự|ỳ|ý|ỷ|ỹ|ỵ|À|Á|Ả|Ã|Ạ|Ầ|Ấ|Ẩ|Ẫ|Ậ|Ằ|Ắ|Ẳ|Ẵ|Ặ|È|É|Ẻ|Ẽ|Ẹ|Ề|Ế|Ể|Ễ|Ệ|Ì|Í|Ỉ|Ĩ|Ị|Ò|Ó|Ỏ|Õ|Ọ|Ồ|Ố|Ổ|Ỗ|Ộ|Ờ|Ớ|Ở|Ỡ|Ợ|Ù|Ú|Ủ|Ũ|Ụ|Ừ|Ứ|Ử|Ữ|Ự|Ỳ|Ý|Ỷ|Ỹ|Ỵ'.split(\n",
    "        '|')\n",
    "    charutf8 = \"à|á|ả|ã|ạ|ầ|ấ|ẩ|ẫ|ậ|ằ|ắ|ẳ|ẵ|ặ|è|é|ẻ|ẽ|ẹ|ề|ế|ể|ễ|ệ|ì|í|ỉ|ĩ|ị|ò|ó|ỏ|õ|ọ|ồ|ố|ổ|ỗ|ộ|ờ|ớ|ở|ỡ|ợ|ù|ú|ủ|ũ|ụ|ừ|ứ|ử|ữ|ự|ỳ|ý|ỷ|ỹ|ỵ|À|Á|Ả|Ã|Ạ|Ầ|Ấ|Ẩ|Ẫ|Ậ|Ằ|Ắ|Ẳ|Ẵ|Ặ|È|É|Ẻ|Ẽ|Ẹ|Ề|Ế|Ể|Ễ|Ệ|Ì|Í|Ỉ|Ĩ|Ị|Ò|Ó|Ỏ|Õ|Ọ|Ồ|Ố|Ổ|Ỗ|Ộ|Ờ|Ớ|Ở|Ỡ|Ợ|Ù|Ú|Ủ|Ũ|Ụ|Ừ|Ứ|Ử|Ữ|Ự|Ỳ|Ý|Ỷ|Ỹ|Ỵ\".split(\n",
    "        '|')\n",
    "    for i in range(len(char1252)):\n",
    "        dic[char1252[i]] = charutf8[i]\n",
    "    return dic\n",
    "\n",
    "@udf(StringType())\n",
    "def convert_unicode(txt):\n",
    "    dicchar = loaddicchar()\n",
    "    return re.sub(\n",
    "        r'à|á|ả|ã|ạ|ầ|ấ|ẩ|ẫ|ậ|ằ|ắ|ẳ|ẵ|ặ|è|é|ẻ|ẽ|ẹ|ề|ế|ể|ễ|ệ|ì|í|ỉ|ĩ|ị|ò|ó|ỏ|õ|ọ|ồ|ố|ổ|ỗ|ộ|ờ|ớ|ở|ỡ|ợ|ù|ú|ủ|ũ|ụ|ừ|ứ|ử|ữ|ự|ỳ|ý|ỷ|ỹ|ỵ|À|Á|Ả|Ã|Ạ|Ầ|Ấ|Ẩ|Ẫ|Ậ|Ằ|Ắ|Ẳ|Ẵ|Ặ|È|É|Ẻ|Ẽ|Ẹ|Ề|Ế|Ể|Ễ|Ệ|Ì|Í|Ỉ|Ĩ|Ị|Ò|Ó|Ỏ|Õ|Ọ|Ồ|Ố|Ổ|Ỗ|Ộ|Ờ|Ớ|Ở|Ỡ|Ợ|Ù|Ú|Ủ|Ũ|Ụ|Ừ|Ứ|Ử|Ữ|Ự|Ỳ|Ý|Ỷ|Ỹ|Ỵ',\n",
    "        lambda x: dicchar[x.group()], txt)"
   ]
  },
  {
   "cell_type": "code",
   "execution_count": 17,
   "id": "016e0239-9964-4868-9839-fea4a4517ecb",
   "metadata": {},
   "outputs": [],
   "source": [
    "def process_special_word(text):\n",
    "    new_text = []\n",
    "    text_lst = text.split()\n",
    "\n",
    "    i = 0\n",
    "    while i < len(text_lst):\n",
    "        word = text_lst[i]\n",
    "        if word in not_lst:\n",
    "            next_idx = i + 1\n",
    "            if next_idx < len(text_lst):\n",
    "                word = f\"{word}_{text_lst[next_idx]}\"\n",
    "                i = next_idx + 1\n",
    "            else:\n",
    "                break\n",
    "        else:\n",
    "            i = i + 1\n",
    "        new_text.append(word)\n",
    "\n",
    "    return ' '.join(new_text).strip()"
   ]
  },
  {
   "cell_type": "markdown",
   "id": "1efd7063-e1a7-4b9c-851c-f1d9fbfcc93c",
   "metadata": {},
   "source": [
    "### Phân loại từ vựng "
   ]
  },
  {
   "cell_type": "code",
   "execution_count": 18,
   "id": "a761cb68-8204-47ac-89e6-a1ac3c800140",
   "metadata": {},
   "outputs": [],
   "source": [
    "@udf(StringType())\n",
    "def process_postag_thesea(text):\n",
    "    new_document = ''\n",
    "\n",
    "    for sentence in sent_tokenize(text):\n",
    "        sentence = sentence.replace('.', '')\n",
    "        \n",
    "        # POS tag\n",
    "        lst_word_type = {'A', 'AB', 'V', 'VB', 'VY', 'R', 'M'}\n",
    "        processed_sentence = pos_tag(process_special_word(word_tokenize(sentence, format=\"text\")))\n",
    "        \n",
    "        # Filter words based on POS tags\n",
    "        sentence = ' '.join(word[0] if word[1].upper() in lst_word_type else '' for word in processed_sentence)\n",
    "        new_document += sentence + ' '\n",
    "\n",
    "    # Remove excess blank spaces\n",
    "    new_document = re.sub(r'\\s+', ' ', new_document).strip()\n",
    "\n",
    "    return new_document"
   ]
  },
  {
   "cell_type": "markdown",
   "id": "570f88f9-818e-4b41-8216-e3e636f6ae86",
   "metadata": {},
   "source": [
    "### Loại bỏ từ dừng"
   ]
  },
  {
   "cell_type": "code",
   "execution_count": 19,
   "id": "2ab39b26-a050-47de-a341-ecf526e0665a",
   "metadata": {},
   "outputs": [],
   "source": [
    "@udf(StringType())\n",
    "def remove_stopword(text):\n",
    "    # REMOVE stop words\n",
    "    document = ' '.join('' if word in stopwords_lst else word for word in text.split())\n",
    "    \n",
    "    # DEL excess blank space\n",
    "    document = re.sub(r'\\s+', ' ', document).strip()\n",
    "    \n",
    "    return document"
   ]
  },
  {
   "cell_type": "code",
   "execution_count": 20,
   "id": "a302baa1-832c-4733-8f2c-6cf5c6e62775",
   "metadata": {},
   "outputs": [],
   "source": [
    "df = df.withColumn(\"text\", process_text(df[\"content\"]))\n",
    "df = df.withColumn(\"text\", convert_unicode(df[\"text\"]))\n",
    "df = df.withColumn(\"text\", process_postag_thesea(df[\"text\"]))\n",
    "df = df.withColumn(\"text\", remove_stopword(df[\"text\"]))"
   ]
  },
  {
   "cell_type": "code",
   "execution_count": 21,
   "id": "322bd546-e00e-4508-b54f-67999b44f824",
   "metadata": {},
   "outputs": [
    {
     "name": "stdout",
     "output_type": "stream",
     "text": [
      "root\n",
      " |-- content: string (nullable = true)\n",
      " |-- rating: integer (nullable = true)\n",
      " |-- product_id: integer (nullable = true)\n",
      " |-- text: string (nullable = true)\n",
      "\n"
     ]
    }
   ],
   "source": [
    "df.printSchema()"
   ]
  },
  {
   "cell_type": "code",
   "execution_count": 22,
   "id": "389492d0-dd42-40d7-b31d-4419503b4b9b",
   "metadata": {},
   "outputs": [
    {
     "name": "stderr",
     "output_type": "stream",
     "text": [
      "[Stage 18:>                                                         (0 + 1) / 1]\r"
     ]
    },
    {
     "name": "stdout",
     "output_type": "stream",
     "text": [
      "+--------------------+\n",
      "|                text|\n",
      "+--------------------+\n",
      "|khuyến_mãi được t...|\n",
      "|tốt tin_tưởng tiế...|\n",
      "|dão không_chắc_ch...|\n",
      "|tốt đầu_đàn giảm ...|\n",
      "|được bọc kỹ tem n...|\n",
      "|                 sai|\n",
      "|               nhanh|\n",
      "|               nhanh|\n",
      "|đẹp vừa vặn đẹp t...|\n",
      "|đẹp_giáo nhanh th...|\n",
      "|đủ chất mỏng khôn...|\n",
      "|                  ok|\n",
      "|hổ_trợ nhiệt_tình...|\n",
      "|được đúng được bề...|\n",
      "|              ổn sứt|\n",
      "|ổn dày đẹp khá hà...|\n",
      "|hoạt_động tốt bấm...|\n",
      "|           nhanh đẹp|\n",
      "|                loai|\n",
      "|              ổn lâu|\n",
      "+--------------------+\n",
      "only showing top 20 rows\n",
      "\n"
     ]
    },
    {
     "name": "stderr",
     "output_type": "stream",
     "text": [
      "                                                                                \r"
     ]
    }
   ],
   "source": [
    "df.select(\"text\").show()"
   ]
  },
  {
   "cell_type": "code",
   "execution_count": 23,
   "id": "4867067e-2deb-4fd5-b663-8b0d841e7edc",
   "metadata": {},
   "outputs": [
    {
     "name": "stderr",
     "output_type": "stream",
     "text": [
      "[Stage 21:>                                                         (0 + 1) / 1]\r"
     ]
    },
    {
     "name": "stdout",
     "output_type": "stream",
     "text": [
      "+--------------------+------+----------+--------------------+--------+\n",
      "|             content|rating|product_id|                text|   label|\n",
      "+--------------------+------+----------+--------------------+--------+\n",
      "|M mua theo chương...|     1|  95269391|khuyến_mãi được t...|negative|\n",
      "|Mua sữa của Tiki ...|     1|  45551664|tốt tin_tưởng tiế...|negative|\n",
      "|Sản phẩm không nh...|     1|  48952800|dão không_chắc_ch...|negative|\n",
      "|Xài rất tốt. Lần ...|     5|  76099465|tốt đầu_đàn giảm ...|positive|\n",
      "|Sản phẩm được bọc...|     4| 161211248|được bọc kỹ tem n...| neutral|\n",
      "|Giao sai hàng, đặ...|     5|   9724337|                 sai|positive|\n",
      "|Khung chắc chắn...|     5| 154702528|               nhanh|positive|\n",
      "|    Giao hàng nhanh!|     5|    417954|               nhanh|positive|\n",
      "|Hàng đẹp trước mì...|     4| 101247107|đẹp vừa vặn đẹp t...| neutral|\n",
      "|Cờ đẹp, giáo hàng...|     5|  22376486|đẹp_giáo nhanh th...|positive|\n",
      "|Giao đủ số lượng,...|     4|  89221426|đủ chất mỏng khôn...| neutral|\n",
      "|Sản phẩm rất ok. ...|     5|  32836957|                  ok|positive|\n",
      "|sự hổ trợ nhiệt t...|     5| 116913177|hổ_trợ nhiệt_tình...|positive|\n",
      "|Sản phẩm nhận đượ...|     5|   4364947|được đúng được bề...|positive|\n",
      "|sử dụng ổn.chân h...|     4|   3481991|              ổn sứt| neutral|\n",
      "|Tổng thể ổn, chất...|     4|  20425156|ổn dày đẹp khá hà...| neutral|\n",
      "|Điều khiển hoạt đ...|     5|  14104437|hoạt_động tốt bấm...|positive|\n",
      "|giao hàng nhanh, ...|     5|  55410457|           nhanh đẹp|positive|\n",
      "|Ko đúng loại mua ...|     2| 170267665|                loai| neutral|\n",
      "|hàng ổn nhưng shi...|     3|  16645022|              ổn lâu| neutral|\n",
      "+--------------------+------+----------+--------------------+--------+\n",
      "only showing top 20 rows\n",
      "\n"
     ]
    },
    {
     "name": "stderr",
     "output_type": "stream",
     "text": [
      "                                                                                \r"
     ]
    }
   ],
   "source": [
    "conditions = [\n",
    "    (df['rating'] == 1, 'negative'),\n",
    "    (df['rating'] == 5, 'positive')\n",
    "]\n",
    "\n",
    "default_label = 'neutral'\n",
    "df = df.withColumn('label', \n",
    "                           when(conditions[0][0], conditions[0][1])\n",
    "                           .when(conditions[1][0], conditions[1][1])\n",
    "                           .otherwise(default_label))\n",
    "\n",
    "# Show the resulting DataFrame\n",
    "df.show()"
   ]
  },
  {
   "cell_type": "markdown",
   "id": "f4a32122-a66e-4e9f-96fa-a41208b79f96",
   "metadata": {},
   "source": [
    "# Visualize Data"
   ]
  },
  {
   "cell_type": "code",
   "execution_count": 24,
   "id": "37c21da4-7b4c-4322-8e14-8f29b1958454",
   "metadata": {},
   "outputs": [
    {
     "name": "stderr",
     "output_type": "stream",
     "text": [
      "                                                                                \r"
     ]
    },
    {
     "data": {
      "text/plain": [
       "121501"
      ]
     },
     "execution_count": 24,
     "metadata": {},
     "output_type": "execute_result"
    }
   ],
   "source": [
    "import pandas as pd\n",
    "df.count()"
   ]
  },
  {
   "cell_type": "code",
   "execution_count": null,
   "id": "32be94ad-3e33-49b6-8b60-95673697b070",
   "metadata": {},
   "outputs": [],
   "source": []
  },
  {
   "cell_type": "code",
   "execution_count": 25,
   "id": "5e49a312-415f-41d8-bc97-707bb4ea7125",
   "metadata": {},
   "outputs": [
    {
     "name": "stderr",
     "output_type": "stream",
     "text": [
      "                                                                                \r"
     ]
    }
   ],
   "source": [
    "df_content_to_pd = df.select(\"content\").toPandas()\n",
    "df_rating_to_pd = df.select(\"rating\").toPandas()\n",
    "df_label_to_pd = df.select(\"label\").toPandas()"
   ]
  },
  {
   "cell_type": "code",
   "execution_count": 26,
   "id": "5c44dffc-5f77-4068-b085-cbfffda8b712",
   "metadata": {},
   "outputs": [
    {
     "data": {
      "image/png": "[encoded data removed]",
      "text/plain": [
       "<Figure size 1000x600 with 1 Axes>"
      ]
     },
     "metadata": {},
     "output_type": "display_data"
    }
   ],
   "source": [
    "plt.figure(figsize=(10, 6))\n",
    "plt.hist(df_content_to_pd['content'].str.len(), bins=50, range=(0, 1000), color='blue')\n",
    "plt.xlabel('Number of Characters')\n",
    "plt.ylabel('Frequency')\n",
    "plt.title('Number of Characters in Content')\n",
    "plt.show()"
   ]
  },
  {
   "cell_type": "code",
   "execution_count": 27,
   "id": "675797a3-b0fd-4acf-9ebf-d0a9d52ba798",
   "metadata": {},
   "outputs": [
    {
     "data": {
      "image/png": "[encoded data removed]",
      "text/plain": [
       "<Figure size 1000x600 with 1 Axes>"
      ]
     },
     "metadata": {},
     "output_type": "display_data"
    }
   ],
   "source": [
    "plt.figure(figsize=(10, 6))\n",
    "plt.hist(df_content_to_pd['content'].apply(lambda x: len(x.split()) if x is not None else 0), bins=30, range=(0, 200), color='blue')\n",
    "plt.xlabel('Number of Words')\n",
    "plt.ylabel('Frequency')\n",
    "plt.title('Number of Words in Content')\n",
    "plt.show()"
   ]
  },
  {
   "cell_type": "code",
   "execution_count": 28,
   "id": "793f9b8d-cf69-4484-80e1-232ccb339449",
   "metadata": {},
   "outputs": [
    {
     "data": {
      "image/png": "[encoded data removed]",
      "text/plain": [
       "<Figure size 1000x600 with 1 Axes>"
      ]
     },
     "metadata": {},
     "output_type": "display_data"
    }
   ],
   "source": [
    "plt.figure(figsize=(10, 6))\n",
    "sns.countplot(x='rating', data=df_rating_to_pd)\n",
    "plt.xlabel(\"Rating\")\n",
    "plt.title(\"Number of data of each rating\")\n",
    "plt.show()"
   ]
  },
  {
   "cell_type": "code",
   "execution_count": 29,
   "id": "e3f181da-aee6-4ca7-bc22-08612e017fa8",
   "metadata": {},
   "outputs": [
    {
     "data": {
      "image/png": "[encoded data removed]",
      "text/plain": [
       "<Figure size 1000x600 with 1 Axes>"
      ]
     },
     "metadata": {},
     "output_type": "display_data"
    }
   ],
   "source": [
    "plt.figure(figsize=(10, 6))\n",
    "sns.countplot(x='label', data=df_label_to_pd)\n",
    "plt.xlabel(\"Label\")\n",
    "plt.title(\"Number of data of each label\")\n",
    "plt.show()"
   ]
  },
  {
   "cell_type": "code",
   "execution_count": null,
   "id": "f3722476-da36-4153-b0b0-b6d22c1e92bb",
   "metadata": {},
   "outputs": [
    {
     "name": "stderr",
     "output_type": "stream",
     "text": [
      "[Stage 39:==================================================>       (7 + 1) / 8]\r"
     ]
    }
   ],
   "source": [
    "df = df.select(\"text\",\"label\", \"product_id\");\n",
    "df = df.na.drop()\n",
    "output_path = \"/home/truonghoang/Documents/GR2/Model/review_data_clean.csv\"\n",
    "df.write.csv(output_path, header=True, mode=\"overwrite\")"
   ]
  },
  {
   "cell_type": "code",
   "execution_count": null,
   "id": "c4906910-7c22-4e0d-97e3-133b8d230f8c",
   "metadata": {},
   "outputs": [],
   "source": []
  }
 ],
 "metadata": {
  "kernelspec": {
   "display_name": "Python 3 (ipykernel)",
   "language": "python",
   "name": "python3"
  },
  "language_info": {
   "codemirror_mode": {
    "name": "ipython",
    "version": 3
   },
   "file_extension": ".py",
   "mimetype": "text/x-python",
   "name": "python",
   "nbconvert_exporter": "python",
   "pygments_lexer": "ipython3",
   "version": "3.10.12"
  }
 },
 "nbformat": 4,
 "nbformat_minor": 5
}
