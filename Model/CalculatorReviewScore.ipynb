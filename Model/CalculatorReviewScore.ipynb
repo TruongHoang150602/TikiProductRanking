{
 "cells": [
  {
   "cell_type": "markdown",
   "id": "f57d5f50-88cb-4d9c-9393-e5b5fc9f7c14",
   "metadata": {},
   "source": [
    "# Load data"
   ]
  },
  {
   "cell_type": "code",
   "execution_count": 1,
   "id": "96df8a73-4e69-4001-a153-ba12c9131129",
   "metadata": {},
   "outputs": [
    {
     "name": "stderr",
     "output_type": "stream",
     "text": [
      "24/01/22 23:12:59 WARN Utils: Your hostname, TruongHoang resolves to a loopback address: 127.0.1.1; using 192.168.0.109 instead (on interface wlp3s0)\n",
      "24/01/22 23:12:59 WARN Utils: Set SPARK_LOCAL_IP if you need to bind to another address\n",
      "Setting default log level to \"WARN\".\n",
      "To adjust logging level use sc.setLogLevel(newLevel). For SparkR, use setLogLevel(newLevel).\n",
      "24/01/22 23:13:00 WARN NativeCodeLoader: Unable to load native-hadoop library for your platform... using builtin-java classes where applicable\n"
     ]
    }
   ],
   "source": [
    "from pyspark.sql import SparkSession\n",
    "from pyspark.sql.functions import col, length, split, size, when\n",
    "import matplotlib.pyplot as plt\n",
    "import seaborn as sns\n",
    "%matplotlib inline\n",
    "spark = SparkSession.builder.appName(\"CalculatorReviewScore\").config(\"spark.logLevel\", \"ERROR\").getOrCreate()"
   ]
  },
  {
   "cell_type": "code",
   "execution_count": 2,
   "id": "4b0e3f7f-c5a0-43dc-9e01-926d3ba4322e",
   "metadata": {
    "scrolled": true
   },
   "outputs": [
    {
     "name": "stderr",
     "output_type": "stream",
     "text": [
      "                                                                                \r"
     ]
    },
    {
     "name": "stdout",
     "output_type": "stream",
     "text": [
      "root\n",
      " |-- text: string (nullable = true)\n",
      " |-- label: string (nullable = true)\n",
      " |-- product_id: string (nullable = true)\n",
      "\n"
     ]
    }
   ],
   "source": [
    "df = spark.read.csv('review_data_clean.csv', header=True)\n",
    "df.printSchema()"
   ]
  },
  {
   "cell_type": "code",
   "execution_count": 3,
   "id": "db2a3ace-0ec5-4931-a60a-511fced47ba3",
   "metadata": {},
   "outputs": [
    {
     "name": "stderr",
     "output_type": "stream",
     "text": [
      "[Stage 1:>                                                          (0 + 8) / 8]\r"
     ]
    },
    {
     "name": "stdout",
     "output_type": "stream",
     "text": [
      "Number of rows: 121501\n"
     ]
    },
    {
     "name": "stderr",
     "output_type": "stream",
     "text": [
      "                                                                                \r"
     ]
    }
   ],
   "source": [
    "print(\"Number of rows:\", df.count())"
   ]
  },
  {
   "cell_type": "code",
   "execution_count": 4,
   "id": "769dad09-0982-4bbb-bb1e-6955251d4b01",
   "metadata": {},
   "outputs": [
    {
     "name": "stdout",
     "output_type": "stream",
     "text": [
      "+--------------------+--------+----------+\n",
      "|                text|   label|product_id|\n",
      "+--------------------+--------+----------+\n",
      "|được gãy móc khôn...| neutral|   6991111|\n",
      "|đẹp chắc mượt_khổ...|positive|  73291754|\n",
      "|đúng chắc_chắn lắ...|positive|  68141773|\n",
      "|               giống|positive|  55505638|\n",
      "|chưa_được kỹ bể k...| neutral| 146555381|\n",
      "|                  êm|positive| 139211455|\n",
      "|không_giảm lộng k...|positive| 112194231|\n",
      "|tốt_đẹp ghép phon...|positive| 111635087|\n",
      "|không_xuất_hóa ti...|negative|  76099465|\n",
      "|  lâu hư ủng_hộ thêm|positive| 217777834|\n",
      "|chắc_chắn đúng sớ...|positive|  33893853|\n",
      "|thường không_phù_...|positive|    453774|\n",
      "|          ủng_hộ dài|positive| 136021304|\n",
      "|đẹp chạy nhún_nhả...|positive|  74871299|\n",
      "|nhanh cẩn_thận dễ ăn|positive|  95035832|\n",
      "|         gia_đình ok| neutral|  35226708|\n",
      "|đuọc cài không_đu...|negative| 127010975|\n",
      "|             đều tốt|positive|  52355000|\n",
      "|được coi muốn đuô...|negative|    817884|\n",
      "|   vừa được miễn_phí|positive|   9982809|\n",
      "+--------------------+--------+----------+\n",
      "only showing top 20 rows\n",
      "\n"
     ]
    }
   ],
   "source": [
    "df = df.na.drop()\n",
    "df.show()"
   ]
  },
  {
   "cell_type": "code",
   "execution_count": 5,
   "id": "3f406e90-b070-4d93-a387-76eb236ca73d",
   "metadata": {},
   "outputs": [],
   "source": [
    "from pyspark.ml.feature import VectorAssembler, StringIndexer, Tokenizer, Word2Vec\n",
    "from pyspark.ml import Pipeline"
   ]
  },
  {
   "cell_type": "markdown",
   "id": "40d0d65e-06dd-4c40-a87d-1aee410c0b3c",
   "metadata": {},
   "source": [
    "# Tiền xử lí"
   ]
  },
  {
   "cell_type": "markdown",
   "id": "c21f5d29-ebef-48f8-9ddb-1cf9042e971e",
   "metadata": {},
   "source": [
    "Tiền xử lí thực hiện các công việc sau:\n",
    "- Tokenizer để chia dòng văn bản thành các từ (tokenize).\n",
    "- StringIndexer để chuyển đổi cột nhãn (label) từ dạng chuỗi sang dạng số.\n",
    "- Word2Vec để ánh xạ các từ thành các vector dựa trên ngữ cảnh xuất hiện của chúng trong tập dữ liệu."
   ]
  },
  {
   "cell_type": "code",
   "execution_count": 6,
   "id": "ca5a8eb3-f067-4cf1-a2a2-2ef1f8a5f24b",
   "metadata": {},
   "outputs": [
    {
     "name": "stderr",
     "output_type": "stream",
     "text": [
      "                                                                                \r"
     ]
    }
   ],
   "source": [
    "def preprocess(df, min_count = 5): \n",
    "    # Tokenize the text column\n",
    "    tokenizer = Tokenizer(inputCol=\"text\", outputCol=\"words\")\n",
    "    df = tokenizer.transform(df)\n",
    "    \n",
    "    # Convert label to numeric\n",
    "    df = df.withColumn(\"indexed_label\", when(df[\"label\"] == \"negative\", 0)\n",
    "                                  .when(df[\"label\"] == \"neutral\", 1)\n",
    "                                  .when(df[\"label\"] == \"positive\", 2))\n",
    "    \n",
    "    # Apply Word2Vec on the tokenized words\n",
    "    word2vec = Word2Vec(vectorSize=100, minCount=min_count, inputCol=\"words\", outputCol=\"features\")\n",
    "    model = word2vec.fit(df)\n",
    "    df = model.transform(df)\n",
    "    \n",
    "    return df\n",
    "df = preprocess(df)"
   ]
  },
  {
   "cell_type": "markdown",
   "id": "340ca7bf-ed35-4d34-b838-f1edf50ec451",
   "metadata": {},
   "source": [
    "## Lấy mẫu "
   ]
  },
  {
   "cell_type": "markdown",
   "id": "a86d2633-380a-426f-88c8-d9627d03b845",
   "metadata": {},
   "source": [
    "Do sữ liệu có sự phân bố không đều nên lấy mẫu theo phương pháp lấy mẫu phân tầng"
   ]
  },
  {
   "cell_type": "code",
   "execution_count": 7,
   "id": "46d19d50-5c11-40cb-888a-997c1acec88f",
   "metadata": {},
   "outputs": [],
   "source": [
    "fractions = {\"negative\": 1, \"neutral\": 0.6, \"positive\": 0.2}\n",
    "train_data = df.sampleBy(\"label\", fractions, seed=42)\n",
    "test_data = df.subtract(train_data)"
   ]
  },
  {
   "cell_type": "code",
   "execution_count": 8,
   "id": "54afa4dc-d604-45c5-a21e-c6fec1923213",
   "metadata": {},
   "outputs": [
    {
     "data": {
      "image/png": "[encoded data removed]",
      "text/plain": [
       "<Figure size 1000x600 with 1 Axes>"
      ]
     },
     "metadata": {},
     "output_type": "display_data"
    }
   ],
   "source": [
    "import matplotlib.pyplot as plt\n",
    "import seaborn as sns\n",
    "\n",
    "df_label_to_pd = train_data.select(\"label\").toPandas()\n",
    "plt.figure(figsize=(10, 6))\n",
    "sns.countplot(x='label', data=df_label_to_pd)\n",
    "plt.xlabel(\"Label\")\n",
    "plt.title(\"Number of data of each label\")\n",
    "plt.show()"
   ]
  },
  {
   "cell_type": "markdown",
   "id": "01177d08-7953-41da-9de3-a9c34cc5ebc8",
   "metadata": {},
   "source": [
    "# Huấn luyện mô hình"
   ]
  },
  {
   "cell_type": "code",
   "execution_count": 9,
   "id": "313532d8-1ded-47e8-923d-730d1c03259e",
   "metadata": {},
   "outputs": [],
   "source": [
    "import time\n",
    "training_times = []\n",
    "prediction_times = []"
   ]
  },
  {
   "cell_type": "markdown",
   "id": "1dea4937-154e-4c63-b694-5164ca499712",
   "metadata": {},
   "source": [
    "## Cây quyết định"
   ]
  },
  {
   "cell_type": "markdown",
   "id": "f2411f3b-5647-4105-b8d6-564e03f99b26",
   "metadata": {},
   "source": [
    "Cây quyết định là một thuật toán học máy được sử dụng cho các bài toán phân loại và dự đoán. Nó hoạt động bằng cách tạo ra một cấu trúc cây, mỗi nút của cây đại diện cho một quyết định dựa trên một đặc trưng của dữ liệu."
   ]
  },
  {
   "cell_type": "code",
   "execution_count": 10,
   "id": "6baf443a-9881-441c-8905-84ab2f95c599",
   "metadata": {},
   "outputs": [
    {
     "name": "stderr",
     "output_type": "stream",
     "text": [
      "                                                                                \r"
     ]
    }
   ],
   "source": [
    "from pyspark.ml.classification import DecisionTreeClassifier\n",
    "import time\n",
    "\n",
    "start_training_time = time.time()\n",
    "dt = DecisionTreeClassifier(labelCol=\"indexed_label\", featuresCol=\"features\")\n",
    "dt_model = dt.fit(train_data)\n",
    "end_training_time = time.time()\n",
    "training_times.append(end_training_time - start_training_time)\n",
    "\n",
    "\n",
    "start_prediction_time = time.time()\n",
    "dt_predictions = dt_model.transform(test_data)\n",
    "end_prediction_time = time.time()\n",
    "prediction_times.append(end_prediction_time - start_prediction_time)\n"
   ]
  },
  {
   "cell_type": "markdown",
   "id": "8f0a7ae5-8351-4e80-8398-7f59ec90c580",
   "metadata": {},
   "source": [
    "## One-vs-Rest (OneVsRest hoặc One-vs-All)"
   ]
  },
  {
   "cell_type": "markdown",
   "id": "b10f2c26-c60d-4b03-b53d-6ad0ffe7bd8e",
   "metadata": {},
   "source": [
    "One-vs-Rest (OneVsRest hoặc One-vs-All) là một chiến lược trong học máy được sử dụng trong bài toán phân loại đa lớp. Trong bài toán phân loại này, có nhiều lớp hoặc nhãn mà mô hình cần phải dự đoán. Chiến lược One-vs-Rest giải quyết vấn đề này bằng cách chuyển đổi nhiệm vụ phân loại đa lớp thành nhiều nhiệm vụ phân loại nhị phân (binary classification)."
   ]
  },
  {
   "cell_type": "code",
   "execution_count": 11,
   "id": "fdb4f33d-efdc-43da-ad34-c5ee6b8a5c69",
   "metadata": {},
   "outputs": [
    {
     "name": "stderr",
     "output_type": "stream",
     "text": [
      "24/01/22 23:14:49 ERROR OWLQN: Failure! Resetting history: breeze.optimize.NaNHistory: \n",
      "24/01/22 23:14:52 ERROR OWLQN: Failure! Resetting history: breeze.optimize.NaNHistory: \n",
      "24/01/22 23:14:55 ERROR OWLQN: Failure! Resetting history: breeze.optimize.NaNHistory: \n",
      "                                                                                \r"
     ]
    }
   ],
   "source": [
    "from pyspark.ml.classification import LinearSVC, OneVsRest\n",
    "\n",
    "start_training_time = time.time()\n",
    "ovr = OneVsRest(classifier=LinearSVC(), labelCol=\"indexed_label\", featuresCol=\"features\")\n",
    "ovr_pipeline = Pipeline(stages=[ovr])\n",
    "ovr_model = ovr_pipeline.fit(train_data)\n",
    "end_training_time = time.time()\n",
    "training_times.append(end_training_time - start_training_time)\n",
    "\n",
    "start_prediction_time = time.time()\n",
    "ovr_predictions = ovr_model.transform(test_data)\n",
    "end_prediction_time = time.time()\n",
    "prediction_times.append(end_prediction_time - start_prediction_time)"
   ]
  },
  {
   "cell_type": "markdown",
   "id": "e70dc934-dedf-4f96-b3c0-55d823482e93",
   "metadata": {},
   "source": [
    "## MultilayerPerceptron"
   ]
  },
  {
   "cell_type": "markdown",
   "id": "5a431d4b-1bae-4073-bdaa-68d90ad87cb4",
   "metadata": {},
   "source": [
    "MultilayerPerceptronClassifier là một mô hình học máy thuộc thư viện PySpark MLlib được sử dụng cho các bài toán phân loại. Nó là một mô hình mạng nơ-ron đa tầng (multilayer perceptron) được huấn luyện bằng thuật toán lan truyền ngược (backpropagation)"
   ]
  },
  {
   "cell_type": "code",
   "execution_count": 12,
   "id": "5b38e558-d8fd-4db5-bb4c-715bfbf17c65",
   "metadata": {},
   "outputs": [
    {
     "name": "stderr",
     "output_type": "stream",
     "text": [
      "                                                                                \r"
     ]
    }
   ],
   "source": [
    "from pyspark.ml.classification import MultilayerPerceptronClassifier\n",
    "\n",
    "start_training_time = time.time()\n",
    "layers = [100, 5, 3]\n",
    "mpc = MultilayerPerceptronClassifier(layers=layers, labelCol=\"indexed_label\", featuresCol=\"features\")\n",
    "mpc_pipeline = Pipeline(stages=[mpc])\n",
    "mpc_model = mpc_pipeline.fit(train_data)\n",
    "end_training_time = time.time()\n",
    "training_times.append(end_training_time - start_training_time)\n",
    "\n",
    "start_prediction_time = time.time()\n",
    "mpc_predictions = mpc_model.transform(test_data)\n",
    "end_prediction_time = time.time()\n",
    "prediction_times.append(end_prediction_time - start_prediction_time)"
   ]
  },
  {
   "cell_type": "markdown",
   "id": "78a96ca7-c727-4835-898a-8f6df5b594ac",
   "metadata": {},
   "source": [
    "# Hồi quy logistic"
   ]
  },
  {
   "cell_type": "markdown",
   "id": "7476ad34-5784-4906-8f88-639b261d0edb",
   "metadata": {},
   "source": [
    "Hồi quy logistic là một mô hình phân loại thường được sử dụng trong học máy để dự đoán xác suất thuộc một lớp cụ thể. Mặc dù có tên là \"Hồi quy logistic\" nó thực chất là một mô hình phân loại và không phải là mô hình hồi quy (regression) trong ngữ cảnh hồi quy tuyến tính."
   ]
  },
  {
   "cell_type": "code",
   "execution_count": 13,
   "id": "f83c0be8-794d-4a74-96ae-d86062f9734f",
   "metadata": {},
   "outputs": [
    {
     "name": "stderr",
     "output_type": "stream",
     "text": [
      "                                                                                \r"
     ]
    }
   ],
   "source": [
    "from pyspark.ml.classification import LogisticRegression\n",
    "\n",
    "start_training_time = time.time()\n",
    "lr = LogisticRegression(labelCol=\"indexed_label\", featuresCol=\"features\", maxIter=10)\n",
    "lr_pipeline = Pipeline(stages=[lr])\n",
    "lr_model = lr_pipeline.fit(train_data)\n",
    "end_training_time = time.time()\n",
    "training_times.append(end_training_time - start_training_time)\n",
    "\n",
    "start_prediction_time = time.time()\n",
    "lr_predictions = lr_model.transform(test_data)\n",
    "end_prediction_time = time.time()\n",
    "prediction_times.append(end_prediction_time - start_prediction_time)"
   ]
  },
  {
   "cell_type": "markdown",
   "id": "7b874267-7d2d-4628-9c8c-518589b67f2f",
   "metadata": {},
   "source": [
    "## Rừng ngẫu nhiên"
   ]
  },
  {
   "cell_type": "markdown",
   "id": "de07a4cb-b381-4a60-a15b-0ebb247a9bb4",
   "metadata": {},
   "source": [
    "Mô hình rừng ngẫu nhiên (Random Forest) là một phương pháp học máy kết hợp (ensemble learning) được sử dụng để phân loại, hồi quy và các nhiệm vụ khác. Mô hình này được xây dựng bằng cách tạo ra nhiều cây quyết định (decision tree) và sau đó sử dụng kết quả của các cây này để đưa ra dự đoán."
   ]
  },
  {
   "cell_type": "code",
   "execution_count": 14,
   "id": "97156dad-2314-422f-ae37-0c4a9bbdd8fd",
   "metadata": {},
   "outputs": [
    {
     "name": "stderr",
     "output_type": "stream",
     "text": [
      "                                                                                \r"
     ]
    }
   ],
   "source": [
    "from pyspark.ml.classification import RandomForestClassifier\n",
    "\n",
    "start_training_time = time.time()\n",
    "rf = RandomForestClassifier(labelCol=\"indexed_label\", featuresCol=\"features\", numTrees=10)\n",
    "rf_pipeline = Pipeline(stages=[rf])\n",
    "rf_model = rf_pipeline.fit(train_data)\n",
    "end_training_time = time.time()\n",
    "training_times.append(end_training_time - start_training_time)\n",
    "\n",
    "start_prediction_time = time.time()\n",
    "rf_predictions = rf_model.transform(test_data)\n",
    "end_prediction_time = time.time()\n",
    "prediction_times.append(end_prediction_time - start_prediction_time)"
   ]
  },
  {
   "cell_type": "code",
   "execution_count": 15,
   "id": "ab54bd16-50be-4a40-800e-08712be18f1b",
   "metadata": {},
   "outputs": [
    {
     "name": "stdout",
     "output_type": "stream",
     "text": [
      "[7.59309983253479, 153.5069990158081, 9.346104383468628, 4.813153505325317, 4.031355857849121] [0.1297459602355957, 0.7584941387176514, 0.07294273376464844, 0.03686189651489258, 0.03597569465637207]\n"
     ]
    }
   ],
   "source": [
    "print(training_times, prediction_times)"
   ]
  },
  {
   "cell_type": "markdown",
   "id": "09fc3675-3d9e-4d72-a98c-37582e27a722",
   "metadata": {},
   "source": [
    "## Đánh giá mô hình"
   ]
  },
  {
   "cell_type": "code",
   "execution_count": null,
   "id": "dabb736e-557c-4fb1-9d51-d30598704fef",
   "metadata": {},
   "outputs": [
    {
     "name": "stderr",
     "output_type": "stream",
     "text": [
      "                                                                                \r"
     ]
    },
    {
     "name": "stdout",
     "output_type": "stream",
     "text": [
      "Decision Tree Metrics:\n",
      "  Precision: 0.8340\n",
      "  Recall: 0.6541\n",
      "  F1-Score: 0.7200\n",
      "\n"
     ]
    },
    {
     "name": "stderr",
     "output_type": "stream",
     "text": [
      "                                                                                \r"
     ]
    },
    {
     "name": "stdout",
     "output_type": "stream",
     "text": [
      "OneVsRest Metrics:\n",
      "  Precision: 0.8473\n",
      "  Recall: 0.7467\n",
      "  F1-Score: 0.7932\n",
      "\n"
     ]
    },
    {
     "name": "stderr",
     "output_type": "stream",
     "text": [
      "                                                                                \r"
     ]
    },
    {
     "name": "stdout",
     "output_type": "stream",
     "text": [
      "MultilayerPerceptronClassifier Metrics:\n",
      "  Precision: 0.8482\n",
      "  Recall: 0.7257\n",
      "  F1-Score: 0.7765\n",
      "\n"
     ]
    },
    {
     "name": "stderr",
     "output_type": "stream",
     "text": [
      "                                                                                \r"
     ]
    },
    {
     "name": "stdout",
     "output_type": "stream",
     "text": [
      "Logistic Regression Metrics:\n",
      "  Precision: 0.8469\n",
      "  Recall: 0.6782\n",
      "  F1-Score: 0.7416\n",
      "\n"
     ]
    },
    {
     "name": "stderr",
     "output_type": "stream",
     "text": [
      "                                                                                \r"
     ]
    },
    {
     "name": "stdout",
     "output_type": "stream",
     "text": [
      "Random Forest Metrics:\n",
      "  Precision: 0.8357\n",
      "  Recall: 0.6926\n",
      "  F1-Score: 0.7502\n",
      "\n"
     ]
    },
    {
     "name": "stderr",
     "output_type": "stream",
     "text": [
      "                                                                                \r"
     ]
    }
   ],
   "source": [
    "from pyspark.ml.evaluation import MulticlassClassificationEvaluator, BinaryClassificationEvaluator\n",
    "\n",
    "# Đánh giá precision, recall, và F1-score cho từng mô hình\n",
    "def evaluate_model(predictions, model_name):\n",
    "    evaluator = MulticlassClassificationEvaluator(labelCol=\"indexed_label\", predictionCol=\"prediction\", metricName=\"weightedPrecision\")\n",
    "    precision = evaluator.evaluate(predictions)\n",
    "    \n",
    "    evaluator = MulticlassClassificationEvaluator(labelCol=\"indexed_label\", predictionCol=\"prediction\", metricName=\"weightedRecall\")\n",
    "    recall = evaluator.evaluate(predictions)\n",
    "    \n",
    "    evaluator = MulticlassClassificationEvaluator(labelCol=\"indexed_label\", predictionCol=\"prediction\", metricName=\"f1\")\n",
    "    f1_score = evaluator.evaluate(predictions)\n",
    "    \n",
    "    print(f\"{model_name} Metrics:\")\n",
    "    print(f\"  Precision: {precision:.4f}\")\n",
    "    print(f\"  Recall: {recall:.4f}\")\n",
    "    print(f\"  F1-Score: {f1_score:.4f}\")\n",
    "    print()\n",
    "\n",
    "# Đánh giá các mô hình\n",
    "evaluate_model(dt_predictions, \"Decision Tree\")\n",
    "evaluate_model(ovr_predictions, \"OneVsRest\")\n",
    "evaluate_model(mpc_predictions, \"MultilayerPerceptronClassifier\")\n",
    "evaluate_model(lr_predictions, \"Logistic Regression\")\n",
    "evaluate_model(rf_predictions, \"Random Forest\")\n",
    "\n",
    "# Biểu đồ so sánh\n",
    "models = ['Decision Tree', 'OneVsRest', 'MLP Classifier', 'Logistic Regression', 'Random Forest']\n",
    "precisions = [0.0, 0.0, 0.0, 0.0, 0.0]\n",
    "recalls = [0.0, 0.0, 0.0, 0.0, 0.0]\n",
    "f1_scores = [0.0, 0.0, 0.0, 0.0, 0.0]\n",
    "\n",
    "# Cập nhật giá trị của precision, recall, và F1-score\n",
    "for i, model in enumerate([dt_predictions, ovr_predictions, mpc_predictions, lr_predictions, rf_predictions]):\n",
    "    evaluator = MulticlassClassificationEvaluator(labelCol=\"indexed_label\", predictionCol=\"prediction\", metricName=\"weightedPrecision\")\n",
    "    precisions[i] = evaluator.evaluate(model)\n",
    "    \n",
    "    evaluator = MulticlassClassificationEvaluator(labelCol=\"indexed_label\", predictionCol=\"prediction\", metricName=\"weightedRecall\")\n",
    "    recalls[i] = evaluator.evaluate(model)\n",
    "    \n",
    "    evaluator = MulticlassClassificationEvaluator(labelCol=\"indexed_label\", predictionCol=\"prediction\", metricName=\"f1\")\n",
    "    f1_scores[i] = evaluator.evaluate(model)\n",
    "\n",
    "# Vẽ biểu đồ so sánh\n",
    "import numpy as np\n",
    "width = 0.2\n",
    "fig, (ax1, ax2) = plt.subplots(2, 1, figsize=(10, 12))\n",
    "\n",
    "models = ['Decision Tree', 'OneVsRest', 'MLP Classifier', 'Logistic Regression', 'Random Forest']\n",
    "precisions = [0.0, 0.0, 0.0, 0.0, 0.0]\n",
    "recalls = [0.0, 0.0, 0.0, 0.0, 0.0]\n",
    "f1_scores = [0.0, 0.0, 0.0, 0.0, 0.0]\n",
    "\n",
    "for i, model in enumerate([dt_predictions, ovr_predictions, mpc_predictions, lr_predictions, rf_predictions]):\n",
    "    evaluator = MulticlassClassificationEvaluator(labelCol=\"indexed_label\", predictionCol=\"prediction\", metricName=\"weightedPrecision\")\n",
    "    precisions[i] = evaluator.evaluate(model)\n",
    "    \n",
    "    evaluator = MulticlassClassificationEvaluator(labelCol=\"indexed_label\", predictionCol=\"prediction\", metricName=\"weightedRecall\")\n",
    "    recalls[i] = evaluator.evaluate(model)\n",
    "    \n",
    "    evaluator = MulticlassClassificationEvaluator(labelCol=\"indexed_label\", predictionCol=\"prediction\", metricName=\"f1\")\n",
    "    f1_scores[i] = evaluator.evaluate(model)\n",
    "\n",
    "# Plotting metrics\n",
    "ax1.bar(np.arange(len(models)) - width, precisions, width, label='Precision', color='blue')\n",
    "ax1.bar(np.arange(len(models)), recalls, width, label='Recall', color='green')\n",
    "ax1.bar(np.arange(len(models)) + width, f1_scores, width, label='F1-Score', color='orange')\n",
    "\n",
    "ax1.set_xticks(np.arange(len(models)))\n",
    "ax1.set_xticklabels(models)\n",
    "ax1.set_ylim(0, 1)\n",
    "ax1.set_title('Precision, Recall, and F1-Score of Different Models')\n",
    "ax1.set_xlabel('Models')\n",
    "ax1.set_ylabel('Metrics')\n",
    "ax1.legend()\n",
    "\n",
    "# Plotting training and prediction times\n",
    "ax2.bar(np.arange(len(models)) - width/2, training_times, width, label='Training Time', color='purple')\n",
    "ax2.bar(np.arange(len(models)) + width/2, prediction_times, width, label='Prediction Time', color='brown')\n",
    "\n",
    "ax2.set_xticks(np.arange(len(models)))\n",
    "ax2.set_xticklabels(models)\n",
    "ax2.set_title('Training and Prediction Times of Different Models')\n",
    "ax2.set_xlabel('Models')\n",
    "ax2.set_ylabel('Time (seconds)')\n",
    "ax2.set_ylim(0, 20)\n",
    "ax2.legend()\n",
    "\n",
    "plt.tight_layout()\n",
    "plt.show()"
   ]
  },
  {
   "cell_type": "markdown",
   "id": "040beaed-f9e0-42b7-a55a-87c96afbd748",
   "metadata": {},
   "source": [
    "### Nhận xét:\n",
    "-  Mô hình Multilayer PerceptronClassifier có độ chính xác và recall cao, và F1-Score khá ổn định và có thời gian train và test không quá chênh lệnh với các mô hình khác. Từ đó chọn mô hình này cho tập dữ liệu"
   ]
  },
  {
   "cell_type": "markdown",
   "id": "b9cc4425-4f61-42b7-bf88-9c50be8f51d8",
   "metadata": {},
   "source": [
    "# Test"
   ]
  },
  {
   "cell_type": "code",
   "execution_count": null,
   "id": "fc66195f-4125-4fb2-9448-07951a9e6439",
   "metadata": {},
   "outputs": [],
   "source": [
    "from pyspark.sql import Row\n",
    "from pyspark.sql.types import StringType\n",
    "\n",
    "# Tạo DataFrame mới từ câu comment mới\n",
    "new_comment = \"sai sai tùm_lum đọc ngứa_mắt giống đang lậu á nhạt dần từng không_kiểm_tra ra thất_vọng\"\n",
    "new_label = \"\"  \n",
    "new_data = spark.createDataFrame([Row(text=new_comment, label=new_label)], schema=[\"text\", \"label\"])\n",
    "\n",
    "# Áp dụng các bước tiền xử lý cho câu comment mới\n",
    "new_data = preprocess(new_data, 1)\n",
    "\n",
    "# Dự đoán với Logistic Regression\n",
    "mpc_prediction_new = mpc_model.transform(new_data).select(\"prediction\").first().prediction\n",
    "print(f\"Logistic Regression Prediction for New Comment '{new_comment}': {mpc_prediction_new}\")\n",
    "\n",
    "if mpc_prediction_new == 0:\n",
    "    print(\"Negative\")\n",
    "elif mpc_prediction_new == 1:\n",
    "    print(\"Neutral\")\n",
    "elif mpc_prediction_new == 2:\n",
    "    print(\"Positive\")\n"
   ]
  },
  {
   "cell_type": "markdown",
   "id": "6b2faf84-9b9c-4f7d-a439-17f396f10af3",
   "metadata": {},
   "source": [
    "## Áp dụng cho tập dữ liệu"
   ]
  },
  {
   "cell_type": "code",
   "execution_count": null,
   "id": "b4b02e4f-247a-4773-87c9-e9ca30443561",
   "metadata": {},
   "outputs": [],
   "source": [
    "df = mpc_model.transform(df)"
   ]
  },
  {
   "cell_type": "code",
   "execution_count": null,
   "id": "ebb6943a-5e1d-40e3-8561-8b0a251eee3e",
   "metadata": {},
   "outputs": [],
   "source": [
    "df.select(\"text\",\"prediction\").show()"
   ]
  },
  {
   "cell_type": "markdown",
   "id": "414ad0ae-6764-4975-9230-bc0c4d111463",
   "metadata": {},
   "source": [
    "# Product ranking"
   ]
  },
  {
   "cell_type": "markdown",
   "id": "225df01f-1ac5-43fe-b6d0-7413c2fa60c5",
   "metadata": {},
   "source": [
    "## Load dữ liệu"
   ]
  },
  {
   "cell_type": "code",
   "execution_count": null,
   "id": "e4ccabe4-307b-4b7d-b35d-076994cce14e",
   "metadata": {},
   "outputs": [],
   "source": [
    "product = spark.read.csv('product_data_clean.csv', header=True)\n",
    "product.printSchema()"
   ]
  },
  {
   "cell_type": "code",
   "execution_count": null,
   "id": "de7c6d09-af13-417f-8652-3e3d239b00da",
   "metadata": {},
   "outputs": [],
   "source": [
    "product.count()"
   ]
  },
  {
   "cell_type": "code",
   "execution_count": null,
   "id": "9df54977-1f90-4cef-895b-16bec48c4977",
   "metadata": {},
   "outputs": [],
   "source": [
    "df = df.groupBy(\"product_id\").sum(\"prediction\")\n",
    "df.show()"
   ]
  },
  {
   "cell_type": "code",
   "execution_count": null,
   "id": "4ee201db-cd05-4e6d-9375-a178f261ff84",
   "metadata": {},
   "outputs": [],
   "source": [
    "product = product.join(df, product.id == df.product_id, \"left\")"
   ]
  },
  {
   "cell_type": "code",
   "execution_count": null,
   "id": "455ba473-0b2a-4240-b976-5e24781dfb4e",
   "metadata": {},
   "outputs": [],
   "source": [
    "product = product.withColumnRenamed(\"sum(prediction)\",\"review\")"
   ]
  },
  {
   "cell_type": "code",
   "execution_count": null,
   "id": "e56e112a-259d-483b-8334-bfbde0cea456",
   "metadata": {},
   "outputs": [],
   "source": [
    "from pyspark.sql.types import LongType, IntegerType, FloatType\n",
    "product = product.withColumn(\"discount_rate\", col(\"discount_rate\").cast(FloatType()))\n",
    "product = product.withColumn(\"day_ago_created\", col(\"day_ago_created\").cast(IntegerType()))\n",
    "product = product.withColumn(\"all_time_quantity_sold\", col(\"all_time_quantity_sold\").cast(LongType()))\n",
    "product = product.withColumn(\"rating_average\", col(\"rating_average\").cast(FloatType()))"
   ]
  },
  {
   "cell_type": "code",
   "execution_count": null,
   "id": "84f947ef-f222-46f5-a346-b50dfc08bccd",
   "metadata": {},
   "outputs": [],
   "source": [
    "product = product.fillna(0, subset=[\"review\"])\n",
    "product = product.na.drop(subset=[\"all_time_quantity_sold\"])\n",
    "product.count()"
   ]
  },
  {
   "cell_type": "code",
   "execution_count": null,
   "id": "c9cfae57-87f9-4191-9705-e56a0a8fa752",
   "metadata": {},
   "outputs": [],
   "source": [
    "product.select(\"name\", \"discount_rate\", \"day_ago_created\", \"all_time_quantity_sold\", \"rating_average\", \"review\").show()"
   ]
  },
  {
   "cell_type": "markdown",
   "id": "45840966-7952-44f1-9a14-1881c9c726ef",
   "metadata": {},
   "source": [
    "## Chuẩn hóa dữ liệu"
   ]
  },
  {
   "cell_type": "markdown",
   "id": "1cc70891-27f0-41c1-929e-549b41bdeeac",
   "metadata": {},
   "source": [
    "Chuẩn hóa theo kiểu Min-Max Scaling chuyển đổi giá trị của biến thành một phạm vi cố định [0,1] :"
   ]
  },
  {
   "cell_type": "code",
   "execution_count": null,
   "id": "db8ac75c-f912-4151-a825-ded06b4890f3",
   "metadata": {},
   "outputs": [],
   "source": [
    "from pyspark.ml.feature import MinMaxScaler\n",
    "from pyspark.ml.linalg import Vectors\n",
    "from pyspark.sql import functions as F"
   ]
  },
  {
   "cell_type": "code",
   "execution_count": null,
   "id": "7f9d436b-49fb-494d-a600-86673b0ea6b8",
   "metadata": {},
   "outputs": [],
   "source": [
    "feature_col = \"all_time_quantity_sold\"\n",
    "\n",
    "# Use VectorAssembler to transform the column into a vector\n",
    "assembler = VectorAssembler(inputCols=[feature_col], outputCol=\"features\")\n",
    "\n",
    "# Use MinMaxScaler to normalize the values\n",
    "scaler = MinMaxScaler(inputCol=\"features\", outputCol=\"sale\")"
   ]
  },
  {
   "cell_type": "code",
   "execution_count": null,
   "id": "4c599f08-2716-41a2-8249-4286cc84f9ef",
   "metadata": {},
   "outputs": [],
   "source": [
    "pipeline = Pipeline(stages=[assembler, scaler])\n",
    "\n",
    "# Fit and transform the data\n",
    "model = pipeline.fit(product)\n",
    "product = model.transform(product)"
   ]
  },
  {
   "cell_type": "code",
   "execution_count": null,
   "id": "710ef746-8e0b-4b86-a532-4193f73aa025",
   "metadata": {},
   "outputs": [],
   "source": [
    "feature_col = \"review\"\n",
    "\n",
    "# Use VectorAssembler to transform the column into a vector\n",
    "assembler = VectorAssembler(inputCols=[feature_col], outputCol=\"features_review\")\n",
    "\n",
    "# Use MinMaxScaler to normalize the values\n",
    "scaler = MinMaxScaler(inputCol=\"features_review\", outputCol=\"review_standardized\")"
   ]
  },
  {
   "cell_type": "code",
   "execution_count": null,
   "id": "425e5e72-3198-413b-ad0c-2b159a215d71",
   "metadata": {},
   "outputs": [],
   "source": [
    "pipeline = Pipeline(stages=[assembler, scaler])\n",
    "\n",
    "# Fit and transform the data\n",
    "model = pipeline.fit(product)\n",
    "product = model.transform(product)"
   ]
  },
  {
   "cell_type": "code",
   "execution_count": null,
   "id": "da608f6d-bc64-4ded-b87b-2fa98df7a3d5",
   "metadata": {},
   "outputs": [],
   "source": [
    "product.printSchema()"
   ]
  },
  {
   "cell_type": "code",
   "execution_count": null,
   "id": "ca53d352-4c38-41d7-b5e1-816a107f0d42",
   "metadata": {},
   "outputs": [],
   "source": [
    "# Extract the normalized value from the 'sale' vector\n",
    "extract_value_udf = F.udf(lambda v: float(Vectors.dense(v).toArray()[0]), FloatType())\n",
    "product = product.withColumn(\"sale\", extract_value_udf(col(\"sale\")))"
   ]
  },
  {
   "cell_type": "code",
   "execution_count": null,
   "id": "4c66099f-88b5-45c0-9cd3-79b5365e38ec",
   "metadata": {},
   "outputs": [],
   "source": [
    "product = product.withColumn(\"review_standardized\", extract_value_udf(col(\"review_standardized\")))"
   ]
  },
  {
   "cell_type": "code",
   "execution_count": null,
   "id": "5a8336e1-f066-4e6c-a36f-3a4db5fdf68b",
   "metadata": {},
   "outputs": [],
   "source": [
    "product.printSchema()"
   ]
  },
  {
   "cell_type": "code",
   "execution_count": null,
   "id": "c349e151-c854-4b0e-b398-f8929f7517aa",
   "metadata": {},
   "outputs": [],
   "source": [
    "from pyspark.sql.functions import expr\n",
    "product = product.withColumn(\n",
    "    \"score\",\n",
    "    expr(\"\"\"\n",
    "        CASE WHEN (1 - day_ago_created / 30) > 0\n",
    "        THEN (1 - day_ago_created / 30) * 0.4 +\n",
    "             sale * 0.3 +\n",
    "             discount_rate / 100 * 0.05 +\n",
    "             rating_average / 5 * 0.05 +\n",
    "             review_standardized * 0.2\n",
    "        ELSE sale * 0.3 +\n",
    "             discount_rate / 100 * 0.05 +\n",
    "             rating_average / 5 * 0.05 +\n",
    "             review_standardized * 0.2\n",
    "        END\n",
    "    \"\"\")\n",
    ")\n"
   ]
  },
  {
   "cell_type": "code",
   "execution_count": null,
   "id": "7e99e050-f5bb-48f5-bdc2-ede7ecc0fcbd",
   "metadata": {},
   "outputs": [],
   "source": [
    "\n",
    "product.select(\"name\", \"discount_rate\", \"day_ago_created\", \"all_time_quantity_sold\", \"rating_average\", \"review\", \"score\").orderBy(col(\"score\").desc()).show()"
   ]
  },
  {
   "cell_type": "code",
   "execution_count": null,
   "id": "91ba79b8-4d64-4dfd-ab7c-0f2c27baffa2",
   "metadata": {},
   "outputs": [],
   "source": []
  }
 ],
 "metadata": {
  "kernelspec": {
   "display_name": "Python 3 (ipykernel)",
   "language": "python",
   "name": "python3"
  },
  "language_info": {
   "codemirror_mode": {
    "name": "ipython",
    "version": 3
   },
   "file_extension": ".py",
   "mimetype": "text/x-python",
   "name": "python",
   "nbconvert_exporter": "python",
   "pygments_lexer": "ipython3",
   "version": "3.10.12"
  }
 },
 "nbformat": 4,
 "nbformat_minor": 5
}
