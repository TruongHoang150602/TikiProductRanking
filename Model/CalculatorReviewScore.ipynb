{
 "cells": [
  {
   "cell_type": "markdown",
   "id": "f57d5f50-88cb-4d9c-9393-e5b5fc9f7c14",
   "metadata": {},
   "source": [
    "# Load data"
   ]
  },
  {
   "cell_type": "code",
   "execution_count": 1,
   "id": "96df8a73-4e69-4001-a153-ba12c9131129",
   "metadata": {},
   "outputs": [
    {
     "name": "stderr",
     "output_type": "stream",
     "text": [
      "24/01/12 15:56:34 WARN Utils: Your hostname, TruongHoang resolves to a loopback address: 127.0.1.1; using 172.168.8.182 instead (on interface wlp3s0)\n",
      "24/01/12 15:56:34 WARN Utils: Set SPARK_LOCAL_IP if you need to bind to another address\n",
      "Setting default log level to \"WARN\".\n",
      "To adjust logging level use sc.setLogLevel(newLevel). For SparkR, use setLogLevel(newLevel).\n",
      "24/01/12 15:56:36 WARN NativeCodeLoader: Unable to load native-hadoop library for your platform... using builtin-java classes where applicable\n"
     ]
    }
   ],
   "source": [
    "from pyspark.sql import SparkSession\n",
    "from pyspark.sql.functions import col, length, split, size, when\n",
    "import matplotlib.pyplot as plt\n",
    "import seaborn as sns\n",
    "%matplotlib inline\n",
    "spark = SparkSession.builder.appName(\"CalculatorReviewScore\").config(\"spark.logLevel\", \"ERROR\").getOrCreate()"
   ]
  },
  {
   "cell_type": "code",
   "execution_count": 2,
   "id": "4b0e3f7f-c5a0-43dc-9e01-926d3ba4322e",
   "metadata": {
    "scrolled": true
   },
   "outputs": [
    {
     "name": "stdout",
     "output_type": "stream",
     "text": [
      "root\n",
      " |-- text: string (nullable = true)\n",
      " |-- label: string (nullable = true)\n",
      " |-- product_id: string (nullable = true)\n",
      "\n"
     ]
    }
   ],
   "source": [
    "df = spark.read.csv('review_data_clean.csv', header=True)\n",
    "df.printSchema()"
   ]
  },
  {
   "cell_type": "code",
   "execution_count": 3,
   "id": "db2a3ace-0ec5-4931-a60a-511fced47ba3",
   "metadata": {},
   "outputs": [
    {
     "name": "stdout",
     "output_type": "stream",
     "text": [
      "Number of rows: 121501\n"
     ]
    }
   ],
   "source": [
    "print(\"Number of rows:\", df.count())"
   ]
  },
  {
   "cell_type": "code",
   "execution_count": 4,
   "id": "769dad09-0982-4bbb-bb1e-6955251d4b01",
   "metadata": {},
   "outputs": [
    {
     "name": "stdout",
     "output_type": "stream",
     "text": [
      "+--------------------+--------+----------+\n",
      "|                text|   label|product_id|\n",
      "+--------------------+--------+----------+\n",
      "|được gãy móc khôn...| neutral|   6991111|\n",
      "|đẹp chắc mượt_khổ...|positive|  73291754|\n",
      "|đúng chắc_chắn lắ...|positive|  68141773|\n",
      "|               giống|positive|  55505638|\n",
      "|chưa_được kỹ bể k...| neutral| 146555381|\n",
      "|                  êm|positive| 139211455|\n",
      "|không_giảm lộng k...|positive| 112194231|\n",
      "|tốt_đẹp ghép phon...|positive| 111635087|\n",
      "|không_xuất_hóa ti...|negative|  76099465|\n",
      "|  lâu hư ủng_hộ thêm|positive| 217777834|\n",
      "|chắc_chắn đúng sớ...|positive|  33893853|\n",
      "|thường không_phù_...|positive|    453774|\n",
      "|          ủng_hộ dài|positive| 136021304|\n",
      "|đẹp chạy nhún_nhả...|positive|  74871299|\n",
      "|nhanh cẩn_thận dễ ăn|positive|  95035832|\n",
      "|         gia_đình ok| neutral|  35226708|\n",
      "|đuọc cài không_đu...|negative| 127010975|\n",
      "|             đều tốt|positive|  52355000|\n",
      "|được coi muốn đuô...|negative|    817884|\n",
      "|   vừa được miễn_phí|positive|   9982809|\n",
      "+--------------------+--------+----------+\n",
      "only showing top 20 rows\n",
      "\n"
     ]
    }
   ],
   "source": [
    "df = df.na.drop()\n",
    "df.show()"
   ]
  },
  {
   "cell_type": "code",
   "execution_count": 5,
   "id": "3f406e90-b070-4d93-a387-76eb236ca73d",
   "metadata": {},
   "outputs": [],
   "source": [
    "from pyspark.ml.feature import VectorAssembler, StringIndexer, Tokenizer, Word2Vec\n",
    "from pyspark.ml import Pipeline"
   ]
  },
  {
   "cell_type": "markdown",
   "id": "40d0d65e-06dd-4c40-a87d-1aee410c0b3c",
   "metadata": {},
   "source": [
    "# Tiền xử lí"
   ]
  },
  {
   "cell_type": "markdown",
   "id": "c21f5d29-ebef-48f8-9ddb-1cf9042e971e",
   "metadata": {},
   "source": [
    "Tiền xử lí thực hiện các công việc sau:\n",
    "- Tokenizer để chia dòng văn bản thành các từ (tokenize).\n",
    "- StringIndexer để chuyển đổi cột nhãn (label) từ dạng chuỗi sang dạng số.\n",
    "- Word2Vec để ánh xạ các từ thành các vector dựa trên ngữ cảnh xuất hiện của chúng trong tập dữ liệu."
   ]
  },
  {
   "cell_type": "code",
   "execution_count": 6,
   "id": "ca5a8eb3-f067-4cf1-a2a2-2ef1f8a5f24b",
   "metadata": {},
   "outputs": [
    {
     "name": "stderr",
     "output_type": "stream",
     "text": [
      "                                                                                \r"
     ]
    }
   ],
   "source": [
    "def preprocess(df, min_count = 5): \n",
    "    # Tokenize the text column\n",
    "    tokenizer = Tokenizer(inputCol=\"text\", outputCol=\"words\")\n",
    "    df = tokenizer.transform(df)\n",
    "    \n",
    "    # Convert label to numeric\n",
    "    df = df.withColumn(\"indexed_label\", when(df[\"label\"] == \"negative\", 0)\n",
    "                                  .when(df[\"label\"] == \"neutral\", 1)\n",
    "                                  .when(df[\"label\"] == \"positive\", 2))\n",
    "    \n",
    "    # Apply Word2Vec on the tokenized words\n",
    "    word2vec = Word2Vec(vectorSize=100, minCount=min_count, inputCol=\"words\", outputCol=\"features\")\n",
    "    model = word2vec.fit(df)\n",
    "    df = model.transform(df)\n",
    "    \n",
    "    return df\n",
    "df = preprocess(df)"
   ]
  },
  {
   "cell_type": "markdown",
   "id": "340ca7bf-ed35-4d34-b838-f1edf50ec451",
   "metadata": {},
   "source": [
    "## Chia dữ liệu thành 2 phần train và test theo tỉ lệ 8:2 "
   ]
  },
  {
   "cell_type": "code",
   "execution_count": 7,
   "id": "46d19d50-5c11-40cb-888a-997c1acec88f",
   "metadata": {},
   "outputs": [],
   "source": [
    "train_data, test_data = df.randomSplit([0.8, 0.2], seed=42)"
   ]
  },
  {
   "cell_type": "code",
   "execution_count": 8,
   "id": "54afa4dc-d604-45c5-a21e-c6fec1923213",
   "metadata": {},
   "outputs": [
    {
     "name": "stderr",
     "output_type": "stream",
     "text": [
      "[Stage 10:>                                                         (0 + 1) / 1]\r"
     ]
    },
    {
     "name": "stdout",
     "output_type": "stream",
     "text": [
      "+--------------------+--------+----------+--------------------+-------------+--------------------+\n",
      "|                text|   label|product_id|               words|indexed_label|            features|\n",
      "+--------------------+--------+----------+--------------------+-------------+--------------------+\n",
      "|                   a|positive|   8314996|                 [a]|            2|[0.00232087937183...|\n",
      "|abs_cứng xứng_đán...| neutral|  37933915|[abs_cứng, xứng_đ...|            1|[-0.0075941441464...|\n",
      "|ad thêm siêu tuyệ...|positive| 123847933|[ad, thêm, siêu, ...|            2|[-0.0650618861296...|\n",
      "|adapter rút ra cầ...|positive|  16863949|[adapter, rút, ra...|            2|[0.00903192762052...|\n",
      "|adapter tốt đầy t...|positive|  52179904|[adapter, tốt, đầ...|            2|[5.30000543221831...|\n",
      "|airpod thất_vọng ...|negative|  54392246|[airpod, thất_vọn...|            0|[-0.1851266156882...|\n",
      "|al favorite thực_...|positive|  14684312|[al, favorite, th...|            2|[-0.1142814489085...|\n",
      "|             alright| neutral|  54349786|           [alright]|            1|[0.0,0.0,0.0,0.0,...|\n",
      "|an_toàn qua tăng ...|positive| 130266543|[an_toàn, qua, tă...|            2|[0.11627535227065...|\n",
      "|and_lock bình chắ...|positive| 134515126|[and_lock, bình, ...|            2|[0.04366802219301...|\n",
      "|anh_em sạc tiện t...|positive| 144904228|[anh_em, sạc, tiệ...|            2|[0.07735247462987...|\n",
      "|anh_em đừng bao_g...|negative|   7908729|[anh_em, đừng, ba...|            0|[-0.0839132315550...|\n",
      "|anker nhu anker a...|positive|    227419|[anker, nhu, anke...|            2|[0.00509520721706...|\n",
      "|anten dễ phù_hợp ...|positive|  48549296|[anten, dễ, phù_h...|            2|[0.08834813742174...|\n",
      "|   ap không_xao_shop|negative|  20764432|[ap, không_xao_shop]|            0|[0.01955917105078...|\n",
      "|audio ra kết_hợp ...|positive|   6010061|[audio, ra, kết_h...|            2|[-0.0445743423576...|\n",
      "|aw nhìn mạnh hốt ...|positive| 104273017|[aw, nhìn, mạnh, ...|            2|[-0.0413305849457...|\n",
      "|                   b|positive| 181000510|                 [b]|            2|[-0.0366786196827...|\n",
      "|ba mashal được xu...|positive| 206840682|[ba, mashal, được...|            2|[-0.0242531892499...|\n",
      "|          ba mất_mầu| neutral|  11509625|       [ba, mất_mầu]|            1|[-0.0390652529895...|\n",
      "+--------------------+--------+----------+--------------------+-------------+--------------------+\n",
      "only showing top 20 rows\n",
      "\n"
     ]
    },
    {
     "name": "stderr",
     "output_type": "stream",
     "text": [
      "                                                                                \r"
     ]
    }
   ],
   "source": [
    "train_data.show()"
   ]
  },
  {
   "cell_type": "markdown",
   "id": "01177d08-7953-41da-9de3-a9c34cc5ebc8",
   "metadata": {},
   "source": [
    "# Huấn luyện mô hình"
   ]
  },
  {
   "cell_type": "code",
   "execution_count": 9,
   "id": "313532d8-1ded-47e8-923d-730d1c03259e",
   "metadata": {},
   "outputs": [],
   "source": [
    "import time\n",
    "training_times = []\n",
    "prediction_times = []"
   ]
  },
  {
   "cell_type": "markdown",
   "id": "1dea4937-154e-4c63-b694-5164ca499712",
   "metadata": {},
   "source": [
    "## Cây quyết định"
   ]
  },
  {
   "cell_type": "markdown",
   "id": "f2411f3b-5647-4105-b8d6-564e03f99b26",
   "metadata": {},
   "source": [
    "Cây quyết định là một thuật toán học máy được sử dụng cho các bài toán phân loại và dự đoán. Nó hoạt động bằng cách tạo ra một cấu trúc cây, mỗi nút của cây đại diện cho một quyết định dựa trên một đặc trưng của dữ liệu."
   ]
  },
  {
   "cell_type": "code",
   "execution_count": 10,
   "id": "6baf443a-9881-441c-8905-84ab2f95c599",
   "metadata": {},
   "outputs": [
    {
     "name": "stderr",
     "output_type": "stream",
     "text": [
      "                                                                                \r"
     ]
    }
   ],
   "source": [
    "from pyspark.ml.classification import DecisionTreeClassifier\n",
    "import time\n",
    "\n",
    "start_training_time = time.time()\n",
    "dt = DecisionTreeClassifier(labelCol=\"indexed_label\", featuresCol=\"features\")\n",
    "dt_model = dt.fit(train_data)\n",
    "end_training_time = time.time()\n",
    "training_times.append(end_training_time - start_training_time)\n",
    "\n",
    "\n",
    "start_prediction_time = time.time()\n",
    "dt_predictions = dt_model.transform(test_data)\n",
    "end_prediction_time = time.time()\n",
    "prediction_times.append(end_prediction_time - start_prediction_time)\n"
   ]
  },
  {
   "cell_type": "markdown",
   "id": "8f0a7ae5-8351-4e80-8398-7f59ec90c580",
   "metadata": {},
   "source": [
    "## One-vs-Rest (OneVsRest hoặc One-vs-All)"
   ]
  },
  {
   "cell_type": "markdown",
   "id": "b10f2c26-c60d-4b03-b53d-6ad0ffe7bd8e",
   "metadata": {},
   "source": [
    "One-vs-Rest (OneVsRest hoặc One-vs-All) là một chiến lược trong học máy được sử dụng trong bài toán phân loại đa lớp. Trong bài toán phân loại này, có nhiều lớp hoặc nhãn mà mô hình cần phải dự đoán. Chiến lược One-vs-Rest giải quyết vấn đề này bằng cách chuyển đổi nhiệm vụ phân loại đa lớp thành nhiều nhiệm vụ phân loại nhị phân (binary classification)."
   ]
  },
  {
   "cell_type": "code",
   "execution_count": 11,
   "id": "fdb4f33d-efdc-43da-ad34-c5ee6b8a5c69",
   "metadata": {},
   "outputs": [
    {
     "name": "stderr",
     "output_type": "stream",
     "text": [
      "                                                                                \r"
     ]
    }
   ],
   "source": [
    "from pyspark.ml.classification import LinearSVC, OneVsRest\n",
    "\n",
    "start_training_time = time.time()\n",
    "ovr = OneVsRest(classifier=LinearSVC(), labelCol=\"indexed_label\", featuresCol=\"features\")\n",
    "ovr_pipeline = Pipeline(stages=[ovr])\n",
    "ovr_model = ovr_pipeline.fit(train_data)\n",
    "end_training_time = time.time()\n",
    "training_times.append(end_training_time - start_training_time)\n",
    "\n",
    "start_prediction_time = time.time()\n",
    "ovr_predictions = ovr_model.transform(test_data)\n",
    "end_prediction_time = time.time()\n",
    "prediction_times.append(end_prediction_time - start_prediction_time)"
   ]
  },
  {
   "cell_type": "markdown",
   "id": "e70dc934-dedf-4f96-b3c0-55d823482e93",
   "metadata": {},
   "source": [
    "## MultilayerPerceptron"
   ]
  },
  {
   "cell_type": "markdown",
   "id": "5a431d4b-1bae-4073-bdaa-68d90ad87cb4",
   "metadata": {},
   "source": [
    "MultilayerPerceptronClassifier là một mô hình học máy thuộc thư viện PySpark MLlib được sử dụng cho các bài toán phân loại. Nó là một mô hình mạng nơ-ron đa tầng (multilayer perceptron) được huấn luyện bằng thuật toán lan truyền ngược (backpropagation)"
   ]
  },
  {
   "cell_type": "code",
   "execution_count": 12,
   "id": "5b38e558-d8fd-4db5-bb4c-715bfbf17c65",
   "metadata": {},
   "outputs": [
    {
     "name": "stderr",
     "output_type": "stream",
     "text": [
      "                                                                                \r"
     ]
    }
   ],
   "source": [
    "from pyspark.ml.classification import MultilayerPerceptronClassifier\n",
    "\n",
    "start_training_time = time.time()\n",
    "layers = [100, 5, 3]\n",
    "mpc = MultilayerPerceptronClassifier(layers=layers, labelCol=\"indexed_label\", featuresCol=\"features\")\n",
    "mpc_pipeline = Pipeline(stages=[mpc])\n",
    "mpc_model = mpc_pipeline.fit(train_data)\n",
    "end_training_time = time.time()\n",
    "training_times.append(end_training_time - start_training_time)\n",
    "\n",
    "start_prediction_time = time.time()\n",
    "mpc_predictions = mpc_model.transform(test_data)\n",
    "end_prediction_time = time.time()\n",
    "prediction_times.append(end_prediction_time - start_prediction_time)"
   ]
  },
  {
   "cell_type": "markdown",
   "id": "78a96ca7-c727-4835-898a-8f6df5b594ac",
   "metadata": {},
   "source": [
    "# Hồi quy logistic"
   ]
  },
  {
   "cell_type": "markdown",
   "id": "7476ad34-5784-4906-8f88-639b261d0edb",
   "metadata": {},
   "source": [
    "Hồi quy logistic là một mô hình phân loại thường được sử dụng trong học máy để dự đoán xác suất thuộc một lớp cụ thể. Mặc dù có tên là \"Hồi quy logistic\" nó thực chất là một mô hình phân loại và không phải là mô hình hồi quy (regression) trong ngữ cảnh hồi quy tuyến tính."
   ]
  },
  {
   "cell_type": "code",
   "execution_count": 13,
   "id": "f83c0be8-794d-4a74-96ae-d86062f9734f",
   "metadata": {},
   "outputs": [
    {
     "name": "stderr",
     "output_type": "stream",
     "text": [
      "                                                                                \r"
     ]
    }
   ],
   "source": [
    "from pyspark.ml.classification import LogisticRegression\n",
    "\n",
    "start_training_time = time.time()\n",
    "lr = LogisticRegression(labelCol=\"indexed_label\", featuresCol=\"features\", maxIter=10)\n",
    "lr_pipeline = Pipeline(stages=[lr])\n",
    "lr_model = lr_pipeline.fit(train_data)\n",
    "end_training_time = time.time()\n",
    "training_times.append(end_training_time - start_training_time)\n",
    "\n",
    "start_prediction_time = time.time()\n",
    "lr_predictions = lr_model.transform(test_data)\n",
    "end_prediction_time = time.time()\n",
    "prediction_times.append(end_prediction_time - start_prediction_time)"
   ]
  },
  {
   "cell_type": "markdown",
   "id": "7b874267-7d2d-4628-9c8c-518589b67f2f",
   "metadata": {},
   "source": [
    "## Rừng ngẫu nhiên"
   ]
  },
  {
   "cell_type": "markdown",
   "id": "de07a4cb-b381-4a60-a15b-0ebb247a9bb4",
   "metadata": {},
   "source": [
    "Mô hình rừng ngẫu nhiên (Random Forest) là một phương pháp học máy kết hợp (ensemble learning) được sử dụng để phân loại, hồi quy và các nhiệm vụ khác. Mô hình này được xây dựng bằng cách tạo ra nhiều cây quyết định (decision tree) và sau đó sử dụng kết quả của các cây này để đưa ra dự đoán."
   ]
  },
  {
   "cell_type": "code",
   "execution_count": 14,
   "id": "97156dad-2314-422f-ae37-0c4a9bbdd8fd",
   "metadata": {},
   "outputs": [
    {
     "name": "stderr",
     "output_type": "stream",
     "text": [
      "                                                                                \r"
     ]
    }
   ],
   "source": [
    "from pyspark.ml.classification import RandomForestClassifier\n",
    "\n",
    "start_training_time = time.time()\n",
    "rf = RandomForestClassifier(labelCol=\"indexed_label\", featuresCol=\"features\", numTrees=10)\n",
    "rf_pipeline = Pipeline(stages=[rf])\n",
    "rf_model = rf_pipeline.fit(train_data)\n",
    "end_training_time = time.time()\n",
    "training_times.append(end_training_time - start_training_time)\n",
    "\n",
    "start_prediction_time = time.time()\n",
    "rf_predictions = rf_model.transform(test_data)\n",
    "end_prediction_time = time.time()\n",
    "prediction_times.append(end_prediction_time - start_prediction_time)"
   ]
  },
  {
   "cell_type": "code",
   "execution_count": 15,
   "id": "ab54bd16-50be-4a40-800e-08712be18f1b",
   "metadata": {},
   "outputs": [
    {
     "name": "stdout",
     "output_type": "stream",
     "text": [
      "[9.774938106536865, 129.96046924591064, 16.066571950912476, 12.481096029281616, 7.788575649261475] [0.30576252937316895, 0.5044815540313721, 0.04905080795288086, 0.037035226821899414, 0.048813819885253906]\n"
     ]
    }
   ],
   "source": [
    "print(training_times, prediction_times)"
   ]
  },
  {
   "cell_type": "markdown",
   "id": "09fc3675-3d9e-4d72-a98c-37582e27a722",
   "metadata": {},
   "source": [
    "## Đánh giá mô hình"
   ]
  },
  {
   "cell_type": "code",
   "execution_count": 16,
   "id": "dabb736e-557c-4fb1-9d51-d30598704fef",
   "metadata": {},
   "outputs": [
    {
     "name": "stderr",
     "output_type": "stream",
     "text": [
      "                                                                                \r"
     ]
    },
    {
     "name": "stdout",
     "output_type": "stream",
     "text": [
      "Decision Tree Metrics:\n",
      "  Precision: 0.6874\n",
      "  Recall: 0.7187\n",
      "  F1-Score: 0.6928\n",
      "\n"
     ]
    },
    {
     "name": "stderr",
     "output_type": "stream",
     "text": [
      "                                                                                \r"
     ]
    },
    {
     "name": "stdout",
     "output_type": "stream",
     "text": [
      "OneVsRest Metrics:\n",
      "  Precision: 0.7136\n",
      "  Recall: 0.7188\n",
      "  F1-Score: 0.6448\n",
      "\n"
     ]
    },
    {
     "name": "stderr",
     "output_type": "stream",
     "text": [
      "                                                                                \r"
     ]
    },
    {
     "name": "stdout",
     "output_type": "stream",
     "text": [
      "MultilayerPerceptronClassifier Metrics:\n",
      "  Precision: 0.7257\n",
      "  Recall: 0.7469\n",
      "  F1-Score: 0.7298\n",
      "\n"
     ]
    },
    {
     "name": "stderr",
     "output_type": "stream",
     "text": [
      "                                                                                \r"
     ]
    },
    {
     "name": "stdout",
     "output_type": "stream",
     "text": [
      "Logistic Regression Metrics:\n",
      "  Precision: 0.7157\n",
      "  Recall: 0.7413\n",
      "  F1-Score: 0.7173\n",
      "\n"
     ]
    },
    {
     "name": "stderr",
     "output_type": "stream",
     "text": [
      "                                                                                \r"
     ]
    },
    {
     "name": "stdout",
     "output_type": "stream",
     "text": [
      "Random Forest Metrics:\n",
      "  Precision: 0.6711\n",
      "  Recall: 0.7139\n",
      "  F1-Score: 0.6616\n",
      "\n"
     ]
    },
    {
     "name": "stderr",
     "output_type": "stream",
     "text": [
      "                                                                                \r"
     ]
    },
    {
     "data": {
      "image/png": "[encoded data removed]",
      "text/plain": [
       "<Figure size 1000x1200 with 2 Axes>"
      ]
     },
     "metadata": {},
     "output_type": "display_data"
    }
   ],
   "source": [
    "from pyspark.ml.evaluation import MulticlassClassificationEvaluator, BinaryClassificationEvaluator\n",
    "\n",
    "# Đánh giá precision, recall, và F1-score cho từng mô hình\n",
    "def evaluate_model(predictions, model_name):\n",
    "    evaluator = MulticlassClassificationEvaluator(labelCol=\"indexed_label\", predictionCol=\"prediction\", metricName=\"weightedPrecision\")\n",
    "    precision = evaluator.evaluate(predictions)\n",
    "    \n",
    "    evaluator = MulticlassClassificationEvaluator(labelCol=\"indexed_label\", predictionCol=\"prediction\", metricName=\"weightedRecall\")\n",
    "    recall = evaluator.evaluate(predictions)\n",
    "    \n",
    "    evaluator = MulticlassClassificationEvaluator(labelCol=\"indexed_label\", predictionCol=\"prediction\", metricName=\"f1\")\n",
    "    f1_score = evaluator.evaluate(predictions)\n",
    "    \n",
    "    print(f\"{model_name} Metrics:\")\n",
    "    print(f\"  Precision: {precision:.4f}\")\n",
    "    print(f\"  Recall: {recall:.4f}\")\n",
    "    print(f\"  F1-Score: {f1_score:.4f}\")\n",
    "    print()\n",
    "\n",
    "# Đánh giá các mô hình\n",
    "evaluate_model(dt_predictions, \"Decision Tree\")\n",
    "evaluate_model(ovr_predictions, \"OneVsRest\")\n",
    "evaluate_model(mpc_predictions, \"MultilayerPerceptronClassifier\")\n",
    "evaluate_model(lr_predictions, \"Logistic Regression\")\n",
    "evaluate_model(rf_predictions, \"Random Forest\")\n",
    "\n",
    "# Biểu đồ so sánh\n",
    "models = ['Decision Tree', 'OneVsRest', 'MLP Classifier', 'Logistic Regression', 'Random Forest']\n",
    "precisions = [0.0, 0.0, 0.0, 0.0, 0.0]\n",
    "recalls = [0.0, 0.0, 0.0, 0.0, 0.0]\n",
    "f1_scores = [0.0, 0.0, 0.0, 0.0, 0.0]\n",
    "\n",
    "# Cập nhật giá trị của precision, recall, và F1-score\n",
    "for i, model in enumerate([dt_predictions, ovr_predictions, mpc_predictions, lr_predictions, rf_predictions]):\n",
    "    evaluator = MulticlassClassificationEvaluator(labelCol=\"indexed_label\", predictionCol=\"prediction\", metricName=\"weightedPrecision\")\n",
    "    precisions[i] = evaluator.evaluate(model)\n",
    "    \n",
    "    evaluator = MulticlassClassificationEvaluator(labelCol=\"indexed_label\", predictionCol=\"prediction\", metricName=\"weightedRecall\")\n",
    "    recalls[i] = evaluator.evaluate(model)\n",
    "    \n",
    "    evaluator = MulticlassClassificationEvaluator(labelCol=\"indexed_label\", predictionCol=\"prediction\", metricName=\"f1\")\n",
    "    f1_scores[i] = evaluator.evaluate(model)\n",
    "\n",
    "# Vẽ biểu đồ so sánh\n",
    "import numpy as np\n",
    "width = 0.2\n",
    "fig, (ax1, ax2) = plt.subplots(2, 1, figsize=(10, 12))\n",
    "\n",
    "models = ['Decision Tree', 'OneVsRest', 'MLP Classifier', 'Logistic Regression', 'Random Forest']\n",
    "precisions = [0.0, 0.0, 0.0, 0.0, 0.0]\n",
    "recalls = [0.0, 0.0, 0.0, 0.0, 0.0]\n",
    "f1_scores = [0.0, 0.0, 0.0, 0.0, 0.0]\n",
    "\n",
    "for i, model in enumerate([dt_predictions, ovr_predictions, mpc_predictions, lr_predictions, rf_predictions]):\n",
    "    evaluator = MulticlassClassificationEvaluator(labelCol=\"indexed_label\", predictionCol=\"prediction\", metricName=\"weightedPrecision\")\n",
    "    precisions[i] = evaluator.evaluate(model)\n",
    "    \n",
    "    evaluator = MulticlassClassificationEvaluator(labelCol=\"indexed_label\", predictionCol=\"prediction\", metricName=\"weightedRecall\")\n",
    "    recalls[i] = evaluator.evaluate(model)\n",
    "    \n",
    "    evaluator = MulticlassClassificationEvaluator(labelCol=\"indexed_label\", predictionCol=\"prediction\", metricName=\"f1\")\n",
    "    f1_scores[i] = evaluator.evaluate(model)\n",
    "\n",
    "# Plotting metrics\n",
    "ax1.bar(np.arange(len(models)) - width, precisions, width, label='Precision', color='blue')\n",
    "ax1.bar(np.arange(len(models)), recalls, width, label='Recall', color='green')\n",
    "ax1.bar(np.arange(len(models)) + width, f1_scores, width, label='F1-Score', color='orange')\n",
    "\n",
    "ax1.set_xticks(np.arange(len(models)))\n",
    "ax1.set_xticklabels(models)\n",
    "ax1.set_ylim(0, 1)\n",
    "ax1.set_title('Precision, Recall, and F1-Score of Different Models')\n",
    "ax1.set_xlabel('Models')\n",
    "ax1.set_ylabel('Metrics')\n",
    "ax1.legend()\n",
    "\n",
    "# Plotting training and prediction times\n",
    "ax2.bar(np.arange(len(models)) - width/2, training_times, width, label='Training Time', color='purple')\n",
    "ax2.bar(np.arange(len(models)) + width/2, prediction_times, width, label='Prediction Time', color='brown')\n",
    "\n",
    "ax2.set_xticks(np.arange(len(models)))\n",
    "ax2.set_xticklabels(models)\n",
    "ax2.set_title('Training and Prediction Times of Different Models')\n",
    "ax2.set_xlabel('Models')\n",
    "ax2.set_ylabel('Time (seconds)')\n",
    "ax2.set_ylim(0, 20)\n",
    "ax2.legend()\n",
    "\n",
    "plt.tight_layout()\n",
    "plt.show()"
   ]
  },
  {
   "cell_type": "markdown",
   "id": "040beaed-f9e0-42b7-a55a-87c96afbd748",
   "metadata": {},
   "source": [
    "### Nhận xét:\n",
    "- Mô hình Logistic Regression có độ chính xác và recall cao, và F1-Score khá ổn định và có thời gian train và test ngắn. Từ đó chọn mô hình này cho tập dữ liệu"
   ]
  },
  {
   "cell_type": "markdown",
   "id": "b9cc4425-4f61-42b7-bf88-9c50be8f51d8",
   "metadata": {},
   "source": [
    "# Test"
   ]
  },
  {
   "cell_type": "code",
   "execution_count": 46,
   "id": "fc66195f-4125-4fb2-9448-07951a9e6439",
   "metadata": {},
   "outputs": [
    {
     "name": "stdout",
     "output_type": "stream",
     "text": [
      "Logistic Regression Prediction for New Comment 'không': 2.0\n",
      "Positive\n"
     ]
    }
   ],
   "source": [
    "from pyspark.sql import Row\n",
    "from pyspark.sql.types import StringType\n",
    "\n",
    "# Tạo DataFrame mới từ câu comment mới\n",
    "new_comment = \"sai sai tùm_lum đọc ngứa_mắt giống đang lậu á nhạt dần từng không_kiểm_tra ra thất_vọng\"\n",
    "new_label = \"\"  \n",
    "new_data = spark.createDataFrame([Row(text=new_comment, label=new_label)], schema=[\"text\", \"label\"])\n",
    "\n",
    "# Áp dụng các bước tiền xử lý cho câu comment mới\n",
    "new_data = preprocess(new_data, 1)\n",
    "\n",
    "# Dự đoán với Logistic Regression\n",
    "lr_prediction_new = lr_model.transform(new_data).select(\"prediction\").first().prediction\n",
    "print(f\"Logistic Regression Prediction for New Comment '{new_comment}': {lr_prediction_new}\")\n",
    "\n",
    "if lr_prediction_new == 0:\n",
    "    print(\"Negative\")\n",
    "elif lr_prediction_new == 1:\n",
    "    print(\"Neutral\")\n",
    "elif lr_prediction_new == 2:\n",
    "    print(\"Positive\")\n"
   ]
  },
  {
   "cell_type": "markdown",
   "id": "6b2faf84-9b9c-4f7d-a439-17f396f10af3",
   "metadata": {},
   "source": [
    "## Áp dụng cho tập dữ liệu"
   ]
  },
  {
   "cell_type": "code",
   "execution_count": 18,
   "id": "b4b02e4f-247a-4773-87c9-e9ca30443561",
   "metadata": {},
   "outputs": [],
   "source": [
    "df = lr_model.transform(df)"
   ]
  },
  {
   "cell_type": "code",
   "execution_count": 19,
   "id": "ebb6943a-5e1d-40e3-8561-8b0a251eee3e",
   "metadata": {},
   "outputs": [
    {
     "name": "stdout",
     "output_type": "stream",
     "text": [
      "+--------------------+----------+\n",
      "|                text|prediction|\n",
      "+--------------------+----------+\n",
      "|được gãy móc khôn...|       0.0|\n",
      "|đẹp chắc mượt_khổ...|       2.0|\n",
      "|đúng chắc_chắn lắ...|       2.0|\n",
      "|               giống|       2.0|\n",
      "|chưa_được kỹ bể k...|       1.0|\n",
      "|                  êm|       2.0|\n",
      "|không_giảm lộng k...|       0.0|\n",
      "|tốt_đẹp ghép phon...|       2.0|\n",
      "|không_xuất_hóa ti...|       2.0|\n",
      "|  lâu hư ủng_hộ thêm|       2.0|\n",
      "|chắc_chắn đúng sớ...|       2.0|\n",
      "|thường không_phù_...|       2.0|\n",
      "|          ủng_hộ dài|       2.0|\n",
      "|đẹp chạy nhún_nhả...|       2.0|\n",
      "|nhanh cẩn_thận dễ ăn|       2.0|\n",
      "|         gia_đình ok|       2.0|\n",
      "|đuọc cài không_đu...|       0.0|\n",
      "|             đều tốt|       2.0|\n",
      "|được coi muốn đuô...|       1.0|\n",
      "|   vừa được miễn_phí|       2.0|\n",
      "+--------------------+----------+\n",
      "only showing top 20 rows\n",
      "\n"
     ]
    }
   ],
   "source": [
    "df.select(\"text\",\"prediction\").show()"
   ]
  },
  {
   "cell_type": "markdown",
   "id": "414ad0ae-6764-4975-9230-bc0c4d111463",
   "metadata": {},
   "source": [
    "# Product ranking"
   ]
  },
  {
   "cell_type": "markdown",
   "id": "225df01f-1ac5-43fe-b6d0-7413c2fa60c5",
   "metadata": {},
   "source": [
    "## Load dữ liệu"
   ]
  },
  {
   "cell_type": "code",
   "execution_count": 20,
   "id": "e4ccabe4-307b-4b7d-b35d-076994cce14e",
   "metadata": {},
   "outputs": [
    {
     "name": "stdout",
     "output_type": "stream",
     "text": [
      "root\n",
      " |-- id: string (nullable = true)\n",
      " |-- name: string (nullable = true)\n",
      " |-- discount_rate: string (nullable = true)\n",
      " |-- day_ago_created: string (nullable = true)\n",
      " |-- all_time_quantity_sold: string (nullable = true)\n",
      " |-- category: string (nullable = true)\n",
      " |-- rating_average: string (nullable = true)\n",
      " |-- review_count: string (nullable = true)\n",
      "\n"
     ]
    }
   ],
   "source": [
    "product = spark.read.csv('product_data_clean.csv', header=True)\n",
    "product.printSchema()"
   ]
  },
  {
   "cell_type": "code",
   "execution_count": 21,
   "id": "de7c6d09-af13-417f-8652-3e3d239b00da",
   "metadata": {},
   "outputs": [
    {
     "data": {
      "text/plain": [
       "42464"
      ]
     },
     "execution_count": 21,
     "metadata": {},
     "output_type": "execute_result"
    }
   ],
   "source": [
    "product.count()"
   ]
  },
  {
   "cell_type": "code",
   "execution_count": 22,
   "id": "9df54977-1f90-4cef-895b-16bec48c4977",
   "metadata": {},
   "outputs": [
    {
     "name": "stderr",
     "output_type": "stream",
     "text": [
      "[Stage 2003:============================>                           (4 + 4) / 8]\r"
     ]
    },
    {
     "name": "stdout",
     "output_type": "stream",
     "text": [
      "+----------+---------------+\n",
      "|product_id|sum(prediction)|\n",
      "+----------+---------------+\n",
      "| 184281596|           25.0|\n",
      "| 165956555|           18.0|\n",
      "| 271455596|            3.0|\n",
      "|  32833612|           28.0|\n",
      "| 198126634|           40.0|\n",
      "|    486749|           18.0|\n",
      "|  35905855|           30.0|\n",
      "| 106633540|           19.0|\n",
      "| 142002263|           35.0|\n",
      "| 117201628|           13.0|\n",
      "| 155369286|           35.0|\n",
      "| 198565731|           22.0|\n",
      "| 100958444|           34.0|\n",
      "|  59044202|           33.0|\n",
      "|  32152407|           18.0|\n",
      "| 101548572|           14.0|\n",
      "| 197014890|           26.0|\n",
      "|  84880882|            9.0|\n",
      "| 133647235|           35.0|\n",
      "|  73636715|           16.0|\n",
      "+----------+---------------+\n",
      "only showing top 20 rows\n",
      "\n"
     ]
    },
    {
     "name": "stderr",
     "output_type": "stream",
     "text": [
      "                                                                                \r"
     ]
    }
   ],
   "source": [
    "df = df.groupBy(\"product_id\").sum(\"prediction\")\n",
    "df.show()"
   ]
  },
  {
   "cell_type": "code",
   "execution_count": 23,
   "id": "4ee201db-cd05-4e6d-9375-a178f261ff84",
   "metadata": {},
   "outputs": [],
   "source": [
    "product = product.join(df, product.id == df.product_id, \"left\")"
   ]
  },
  {
   "cell_type": "code",
   "execution_count": 24,
   "id": "455ba473-0b2a-4240-b976-5e24781dfb4e",
   "metadata": {},
   "outputs": [],
   "source": [
    "product = product.withColumnRenamed(\"sum(prediction)\",\"review\")"
   ]
  },
  {
   "cell_type": "code",
   "execution_count": 25,
   "id": "e56e112a-259d-483b-8334-bfbde0cea456",
   "metadata": {},
   "outputs": [],
   "source": [
    "from pyspark.sql.types import LongType, IntegerType, FloatType\n",
    "product = product.withColumn(\"discount_rate\", col(\"discount_rate\").cast(FloatType()))\n",
    "product = product.withColumn(\"day_ago_created\", col(\"day_ago_created\").cast(IntegerType()))\n",
    "product = product.withColumn(\"all_time_quantity_sold\", col(\"all_time_quantity_sold\").cast(LongType()))\n",
    "product = product.withColumn(\"rating_average\", col(\"rating_average\").cast(FloatType()))"
   ]
  },
  {
   "cell_type": "code",
   "execution_count": 26,
   "id": "84f947ef-f222-46f5-a346-b50dfc08bccd",
   "metadata": {},
   "outputs": [
    {
     "data": {
      "text/plain": [
       "42455"
      ]
     },
     "execution_count": 26,
     "metadata": {},
     "output_type": "execute_result"
    }
   ],
   "source": [
    "product = product.fillna(0, subset=[\"review\"])\n",
    "product = product.na.drop(subset=[\"all_time_quantity_sold\"])\n",
    "product.count()"
   ]
  },
  {
   "cell_type": "code",
   "execution_count": 27,
   "id": "c9cfae57-87f9-4191-9705-e56a0a8fa752",
   "metadata": {},
   "outputs": [
    {
     "name": "stderr",
     "output_type": "stream",
     "text": [
      "                                                                                \r"
     ]
    },
    {
     "name": "stdout",
     "output_type": "stream",
     "text": [
      "+--------------------+-------------+---------------+----------------------+--------------+------+\n",
      "|                name|discount_rate|day_ago_created|all_time_quantity_sold|rating_average|review|\n",
      "+--------------------+-------------+---------------+----------------------+--------------+------+\n",
      "|LEGO SPIDEY 10789...|          0.0|            240|                     4|           5.0|   0.0|\n",
      "|Set 3 quần lót bé...|          0.0|            354|                    14|           0.0|   0.0|\n",
      "|Dụng Cụ Lấy Rá...|          5.0|            368|                    49|           4.7|   0.0|\n",
      "|Cháo Tươi Thịt He...|         15.0|           1825|                  1989|           4.7|   0.0|\n",
      "|Sữa bột Optimum G...|          0.0|           1707|                   291|           5.0|   0.0|\n",
      "|Combo 3 Gói Khăn ...|         21.0|            103|                    22|           4.0|   0.0|\n",
      "|Dung dịch súc rửa...|         20.0|            117|                   153|           4.1|   0.0|\n",
      "|Viên sắt cho bà b...|         24.0|           1202|                   397|           4.7|   0.0|\n",
      "|Gối Trẻ Em Tiện L...|          0.0|            414|                     4|           0.0|   0.0|\n",
      "|Áo lót lá bé gái ...|          0.0|            242|                    51|           0.0|   0.0|\n",
      "|Bio Island DHA ch...|         24.0|           1217|                   800|           4.8|   0.0|\n",
      "|Quần Đùi Bầu Mặc ...|          0.0|            155|                    10|           4.0|   0.0|\n",
      "|Nước Lau Sàn Sunl...|         14.0|            642|                  1081|           5.0|  23.0|\n",
      "|Bột ăn dặm dinh d...|          0.0|            903|                   984|           4.8|  33.0|\n",
      "|Mũ tắm mũ gội đầu...|          0.0|            781|                    10|           0.0|   0.0|\n",
      "|Máy Xịt Phòng Tự ...|          3.0|           1105|                   493|           4.7|   0.0|\n",
      "|Viên rửa chén bát...|          0.0|            245|                    13|           5.0|   0.0|\n",
      "|Sữa bột Nutricare...|          0.0|            836|                   109|           4.8|   0.0|\n",
      "|Bột ăn dặm dinh d...|          7.0|            114|                   297|           4.8|   0.0|\n",
      "|Chậu Xông Vùng Kí...|          0.0|            756|                     7|           0.0|   0.0|\n",
      "+--------------------+-------------+---------------+----------------------+--------------+------+\n",
      "only showing top 20 rows\n",
      "\n"
     ]
    }
   ],
   "source": [
    "product.select(\"name\", \"discount_rate\", \"day_ago_created\", \"all_time_quantity_sold\", \"rating_average\", \"review\").show()"
   ]
  },
  {
   "cell_type": "markdown",
   "id": "45840966-7952-44f1-9a14-1881c9c726ef",
   "metadata": {},
   "source": [
    "## Chuẩn hóa dữ liệu"
   ]
  },
  {
   "cell_type": "markdown",
   "id": "1cc70891-27f0-41c1-929e-549b41bdeeac",
   "metadata": {},
   "source": [
    "Chuẩn hóa theo kiểu Min-Max Scaling chuyển đổi giá trị của biến thành một phạm vi cố định [0,1] :"
   ]
  },
  {
   "cell_type": "code",
   "execution_count": 28,
   "id": "db8ac75c-f912-4151-a825-ded06b4890f3",
   "metadata": {},
   "outputs": [],
   "source": [
    "from pyspark.ml.feature import MinMaxScaler\n",
    "from pyspark.ml.linalg import Vectors\n",
    "from pyspark.sql import functions as F"
   ]
  },
  {
   "cell_type": "code",
   "execution_count": 29,
   "id": "7f9d436b-49fb-494d-a600-86673b0ea6b8",
   "metadata": {},
   "outputs": [],
   "source": [
    "feature_col = \"all_time_quantity_sold\"\n",
    "\n",
    "# Use VectorAssembler to transform the column into a vector\n",
    "assembler = VectorAssembler(inputCols=[feature_col], outputCol=\"features\")\n",
    "\n",
    "# Use MinMaxScaler to normalize the values\n",
    "scaler = MinMaxScaler(inputCol=\"features\", outputCol=\"sale\")"
   ]
  },
  {
   "cell_type": "code",
   "execution_count": 30,
   "id": "4c599f08-2716-41a2-8249-4286cc84f9ef",
   "metadata": {},
   "outputs": [
    {
     "name": "stderr",
     "output_type": "stream",
     "text": [
      "                                                                                \r"
     ]
    }
   ],
   "source": [
    "pipeline = Pipeline(stages=[assembler, scaler])\n",
    "\n",
    "# Fit and transform the data\n",
    "model = pipeline.fit(product)\n",
    "product = model.transform(product)"
   ]
  },
  {
   "cell_type": "code",
   "execution_count": 31,
   "id": "710ef746-8e0b-4b86-a532-4193f73aa025",
   "metadata": {},
   "outputs": [],
   "source": [
    "feature_col = \"review\"\n",
    "\n",
    "# Use VectorAssembler to transform the column into a vector\n",
    "assembler = VectorAssembler(inputCols=[feature_col], outputCol=\"features_review\")\n",
    "\n",
    "# Use MinMaxScaler to normalize the values\n",
    "scaler = MinMaxScaler(inputCol=\"features_review\", outputCol=\"review_standardized\")"
   ]
  },
  {
   "cell_type": "code",
   "execution_count": 32,
   "id": "425e5e72-3198-413b-ad0c-2b159a215d71",
   "metadata": {},
   "outputs": [
    {
     "name": "stderr",
     "output_type": "stream",
     "text": [
      "                                                                                \r"
     ]
    }
   ],
   "source": [
    "pipeline = Pipeline(stages=[assembler, scaler])\n",
    "\n",
    "# Fit and transform the data\n",
    "model = pipeline.fit(product)\n",
    "product = model.transform(product)"
   ]
  },
  {
   "cell_type": "code",
   "execution_count": 33,
   "id": "da608f6d-bc64-4ded-b87b-2fa98df7a3d5",
   "metadata": {},
   "outputs": [
    {
     "name": "stdout",
     "output_type": "stream",
     "text": [
      "root\n",
      " |-- id: string (nullable = true)\n",
      " |-- name: string (nullable = true)\n",
      " |-- discount_rate: float (nullable = true)\n",
      " |-- day_ago_created: integer (nullable = true)\n",
      " |-- all_time_quantity_sold: long (nullable = true)\n",
      " |-- category: string (nullable = true)\n",
      " |-- rating_average: float (nullable = true)\n",
      " |-- review_count: string (nullable = true)\n",
      " |-- product_id: string (nullable = true)\n",
      " |-- review: double (nullable = false)\n",
      " |-- features: vector (nullable = true)\n",
      " |-- sale: vector (nullable = true)\n",
      " |-- features_review: vector (nullable = true)\n",
      " |-- review_standardized: vector (nullable = true)\n",
      "\n"
     ]
    }
   ],
   "source": [
    "product.printSchema()"
   ]
  },
  {
   "cell_type": "code",
   "execution_count": 34,
   "id": "ca53d352-4c38-41d7-b5e1-816a107f0d42",
   "metadata": {},
   "outputs": [],
   "source": [
    "# Extract the normalized value from the 'sale' vector\n",
    "extract_value_udf = F.udf(lambda v: float(Vectors.dense(v).toArray()[0]), FloatType())\n",
    "product = product.withColumn(\"sale\", extract_value_udf(col(\"sale\")))"
   ]
  },
  {
   "cell_type": "code",
   "execution_count": 35,
   "id": "4c66099f-88b5-45c0-9cd3-79b5365e38ec",
   "metadata": {},
   "outputs": [],
   "source": [
    "product = product.withColumn(\"review_standardized\", extract_value_udf(col(\"review_standardized\")))"
   ]
  },
  {
   "cell_type": "code",
   "execution_count": 36,
   "id": "5a8336e1-f066-4e6c-a36f-3a4db5fdf68b",
   "metadata": {},
   "outputs": [
    {
     "name": "stdout",
     "output_type": "stream",
     "text": [
      "root\n",
      " |-- id: string (nullable = true)\n",
      " |-- name: string (nullable = true)\n",
      " |-- discount_rate: float (nullable = true)\n",
      " |-- day_ago_created: integer (nullable = true)\n",
      " |-- all_time_quantity_sold: long (nullable = true)\n",
      " |-- category: string (nullable = true)\n",
      " |-- rating_average: float (nullable = true)\n",
      " |-- review_count: string (nullable = true)\n",
      " |-- product_id: string (nullable = true)\n",
      " |-- review: double (nullable = false)\n",
      " |-- features: vector (nullable = true)\n",
      " |-- sale: float (nullable = true)\n",
      " |-- features_review: vector (nullable = true)\n",
      " |-- review_standardized: float (nullable = true)\n",
      "\n"
     ]
    }
   ],
   "source": [
    "product.printSchema()"
   ]
  },
  {
   "cell_type": "code",
   "execution_count": 41,
   "id": "c349e151-c854-4b0e-b398-f8929f7517aa",
   "metadata": {},
   "outputs": [],
   "source": [
    "from pyspark.sql.functions import expr\n",
    "product = product.withColumn(\n",
    "    \"score\",\n",
    "    expr(\"\"\"\n",
    "        CASE WHEN (1 - day_ago_created / 30) > 0\n",
    "        THEN (1 - day_ago_created / 30) * 0.4 +\n",
    "             sale * 0.3 +\n",
    "             discount_rate / 100 * 0.05 +\n",
    "             rating_average / 5 * 0.05 +\n",
    "             review_standardized * 0.2\n",
    "        ELSE sale * 0.3 +\n",
    "             discount_rate / 100 * 0.05 +\n",
    "             rating_average / 5 * 0.05 +\n",
    "             review_standardized * 0.2\n",
    "        END\n",
    "    \"\"\")\n",
    ")\n"
   ]
  },
  {
   "cell_type": "code",
   "execution_count": 42,
   "id": "7e99e050-f5bb-48f5-bdc2-ede7ecc0fcbd",
   "metadata": {},
   "outputs": [
    {
     "name": "stderr",
     "output_type": "stream",
     "text": [
      "[Stage 2033:============================>                           (1 + 1) / 2]\r"
     ]
    },
    {
     "name": "stdout",
     "output_type": "stream",
     "text": [
      "+--------------------+-------------+---------------+----------------------+--------------+------+------------------+\n",
      "|                name|discount_rate|day_ago_created|all_time_quantity_sold|rating_average|review|             score|\n",
      "+--------------------+-------------+---------------+----------------------+--------------+------+------------------+\n",
      "|Cuốn Sách Hoàn Hả...|         26.0|              0|                 31911|           4.8|  39.0|0.6633819102421403|\n",
      "|Tập Học Sinh Tiki...|         35.0|              0|                 79589|           4.6|  36.0|0.6619114927947521|\n",
      "|Giáo Trình Chuẩn ...|         23.0|              0|                  6980|           4.8|  35.0|0.6361144895907492|\n",
      "|Luật Im Lặng (Mar...|         18.0|              0|                   190|           5.0|  35.0|0.6340437223381596|\n",
      "|Combo Sherlock Ho...|         20.0|              0|                   173|           4.8|  35.0|0.6330397915482172|\n",
      "|Bộ Phát Wifi 4G L...|         46.0|              0|                   296|           4.7|  32.0|0.6300682443346596|\n",
      "|Máy In Laser Đen ...|         20.0|              0|                  4315|           4.7|  34.0|0.6279979825671763|\n",
      "|Bộ Kích Sóng Wifi...|          4.0|              0|                  1196|           4.5|  36.0|0.6272764406835195|\n",
      "|Bộ Chuyển Đổi USB...|         50.0|              0|                   152|           4.7|  31.0|0.6270349249253924|\n",
      "|Tai Nghe Chụp Tai...|         34.0|              0|                  1746|           4.6|  32.0|0.6234036811864935|\n",
      "|TP-Link  TL-WR841...|         47.0|              0|                   109|           5.0|  29.0|0.6185249889603583|\n",
      "|Bộ Phát Wifi Rout...|          5.0|              0|                    71|           5.0|  33.0| 0.617516191074028|\n",
      "|Máy In Laser Đơn ...|         31.0|              0|                  2310|           4.6|  31.0|0.6170341470530257|\n",
      "|Bàn Phím Không Dâ...|          0.0|              0|                   101|           4.5|  34.0|0.6150231382797938|\n",
      "|Chuột Có Dây Logi...|          0.0|              0|                  5452|           4.8|  33.0|0.6142610072623939|\n",
      "|Đèn Pixar, Đèn Bà...|         18.0|              0|                   651|           4.5|  32.0| 0.614150370199699|\n",
      "|Loa Vi Tính Logit...|          0.0|              0|                    17|           4.3|  34.0| 0.613003708037395|\n",
      "|Bộ Kích Sóng Wifi...|          0.0|              0|                    54|           4.7|  33.0|0.6120122564693884|\n",
      "|Tai nghe chụp tai...|          0.0|              0|                   209|           4.6|  33.0|0.6110481143655488|\n",
      "|Bột Kem Nestle Co...|         14.0|              0|                 10613|           4.7|  30.0|0.6064549262151122|\n",
      "+--------------------+-------------+---------------+----------------------+--------------+------+------------------+\n",
      "only showing top 20 rows\n",
      "\n"
     ]
    },
    {
     "name": "stderr",
     "output_type": "stream",
     "text": [
      "                                                                                \r"
     ]
    }
   ],
   "source": [
    "\n",
    "product.select(\"name\", \"discount_rate\", \"day_ago_created\", \"all_time_quantity_sold\", \"rating_average\", \"review\", \"score\").orderBy(col(\"score\").desc()).show()"
   ]
  },
  {
   "cell_type": "code",
   "execution_count": null,
   "id": "91ba79b8-4d64-4dfd-ab7c-0f2c27baffa2",
   "metadata": {},
   "outputs": [],
   "source": []
  }
 ],
 "metadata": {
  "kernelspec": {
   "display_name": "Python 3 (ipykernel)",
   "language": "python",
   "name": "python3"
  },
  "language_info": {
   "codemirror_mode": {
    "name": "ipython",
    "version": 3
   },
   "file_extension": ".py",
   "mimetype": "text/x-python",
   "name": "python",
   "nbconvert_exporter": "python",
   "pygments_lexer": "ipython3",
   "version": "3.10.12"
  }
 },
 "nbformat": 4,
 "nbformat_minor": 5
}
